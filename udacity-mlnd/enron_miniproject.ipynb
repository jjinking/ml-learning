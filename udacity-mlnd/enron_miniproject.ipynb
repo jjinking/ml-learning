{
 "cells": [
  {
   "cell_type": "code",
   "execution_count": 4,
   "metadata": {
    "collapsed": true
   },
   "outputs": [],
   "source": [
    "import pandas as pd\n",
    "import pickle"
   ]
  },
  {
   "cell_type": "code",
   "execution_count": 7,
   "metadata": {
    "collapsed": false
   },
   "outputs": [],
   "source": [
    "enron_data = pickle.load(open(\"ud120-projects/final_project/final_project_dataset.pkl\", \"r\"))"
   ]
  },
  {
   "cell_type": "code",
   "execution_count": 10,
   "metadata": {
    "collapsed": false
   },
   "outputs": [
    {
     "data": {
      "text/plain": [
       "146"
      ]
     },
     "execution_count": 10,
     "metadata": {},
     "output_type": "execute_result"
    }
   ],
   "source": [
    "len(enron_data)"
   ]
  },
  {
   "cell_type": "code",
   "execution_count": 14,
   "metadata": {
    "collapsed": false
   },
   "outputs": [
    {
     "data": {
      "text/plain": [
       "21"
      ]
     },
     "execution_count": 14,
     "metadata": {},
     "output_type": "execute_result"
    }
   ],
   "source": [
    "len(enron_data[enron_data.keys()[:1][0]])"
   ]
  },
  {
   "cell_type": "code",
   "execution_count": 19,
   "metadata": {
    "collapsed": true
   },
   "outputs": [],
   "source": [
    "df = pd.DataFrame(enron_data).transpose()"
   ]
  },
  {
   "cell_type": "code",
   "execution_count": 20,
   "metadata": {
    "collapsed": false
   },
   "outputs": [
    {
     "data": {
      "text/plain": [
       "(146, 21)"
      ]
     },
     "execution_count": 20,
     "metadata": {},
     "output_type": "execute_result"
    }
   ],
   "source": [
    "df.shape"
   ]
  },
  {
   "cell_type": "code",
   "execution_count": 21,
   "metadata": {
    "collapsed": false
   },
   "outputs": [
    {
     "data": {
      "text/html": [
       "<div>\n",
       "<table border=\"1\" class=\"dataframe\">\n",
       "  <thead>\n",
       "    <tr style=\"text-align: right;\">\n",
       "      <th></th>\n",
       "      <th>bonus</th>\n",
       "      <th>deferral_payments</th>\n",
       "      <th>deferred_income</th>\n",
       "      <th>director_fees</th>\n",
       "      <th>email_address</th>\n",
       "      <th>exercised_stock_options</th>\n",
       "      <th>expenses</th>\n",
       "      <th>from_messages</th>\n",
       "      <th>from_poi_to_this_person</th>\n",
       "      <th>from_this_person_to_poi</th>\n",
       "      <th>...</th>\n",
       "      <th>long_term_incentive</th>\n",
       "      <th>other</th>\n",
       "      <th>poi</th>\n",
       "      <th>restricted_stock</th>\n",
       "      <th>restricted_stock_deferred</th>\n",
       "      <th>salary</th>\n",
       "      <th>shared_receipt_with_poi</th>\n",
       "      <th>to_messages</th>\n",
       "      <th>total_payments</th>\n",
       "      <th>total_stock_value</th>\n",
       "    </tr>\n",
       "  </thead>\n",
       "  <tbody>\n",
       "    <tr>\n",
       "      <th>ALLEN PHILLIP K</th>\n",
       "      <td>4175000</td>\n",
       "      <td>2869717</td>\n",
       "      <td>-3081055</td>\n",
       "      <td>NaN</td>\n",
       "      <td>phillip.allen@enron.com</td>\n",
       "      <td>1729541</td>\n",
       "      <td>13868</td>\n",
       "      <td>2195</td>\n",
       "      <td>47</td>\n",
       "      <td>65</td>\n",
       "      <td>...</td>\n",
       "      <td>304805</td>\n",
       "      <td>152</td>\n",
       "      <td>False</td>\n",
       "      <td>126027</td>\n",
       "      <td>-126027</td>\n",
       "      <td>201955</td>\n",
       "      <td>1407</td>\n",
       "      <td>2902</td>\n",
       "      <td>4484442</td>\n",
       "      <td>1729541</td>\n",
       "    </tr>\n",
       "    <tr>\n",
       "      <th>BADUM JAMES P</th>\n",
       "      <td>NaN</td>\n",
       "      <td>178980</td>\n",
       "      <td>NaN</td>\n",
       "      <td>NaN</td>\n",
       "      <td>NaN</td>\n",
       "      <td>257817</td>\n",
       "      <td>3486</td>\n",
       "      <td>NaN</td>\n",
       "      <td>NaN</td>\n",
       "      <td>NaN</td>\n",
       "      <td>...</td>\n",
       "      <td>NaN</td>\n",
       "      <td>NaN</td>\n",
       "      <td>False</td>\n",
       "      <td>NaN</td>\n",
       "      <td>NaN</td>\n",
       "      <td>NaN</td>\n",
       "      <td>NaN</td>\n",
       "      <td>NaN</td>\n",
       "      <td>182466</td>\n",
       "      <td>257817</td>\n",
       "    </tr>\n",
       "    <tr>\n",
       "      <th>BANNANTINE JAMES M</th>\n",
       "      <td>NaN</td>\n",
       "      <td>NaN</td>\n",
       "      <td>-5104</td>\n",
       "      <td>NaN</td>\n",
       "      <td>james.bannantine@enron.com</td>\n",
       "      <td>4046157</td>\n",
       "      <td>56301</td>\n",
       "      <td>29</td>\n",
       "      <td>39</td>\n",
       "      <td>0</td>\n",
       "      <td>...</td>\n",
       "      <td>NaN</td>\n",
       "      <td>864523</td>\n",
       "      <td>False</td>\n",
       "      <td>1757552</td>\n",
       "      <td>-560222</td>\n",
       "      <td>477</td>\n",
       "      <td>465</td>\n",
       "      <td>566</td>\n",
       "      <td>916197</td>\n",
       "      <td>5243487</td>\n",
       "    </tr>\n",
       "    <tr>\n",
       "      <th>BAXTER JOHN C</th>\n",
       "      <td>1200000</td>\n",
       "      <td>1295738</td>\n",
       "      <td>-1386055</td>\n",
       "      <td>NaN</td>\n",
       "      <td>NaN</td>\n",
       "      <td>6680544</td>\n",
       "      <td>11200</td>\n",
       "      <td>NaN</td>\n",
       "      <td>NaN</td>\n",
       "      <td>NaN</td>\n",
       "      <td>...</td>\n",
       "      <td>1586055</td>\n",
       "      <td>2660303</td>\n",
       "      <td>False</td>\n",
       "      <td>3942714</td>\n",
       "      <td>NaN</td>\n",
       "      <td>267102</td>\n",
       "      <td>NaN</td>\n",
       "      <td>NaN</td>\n",
       "      <td>5634343</td>\n",
       "      <td>10623258</td>\n",
       "    </tr>\n",
       "    <tr>\n",
       "      <th>BAY FRANKLIN R</th>\n",
       "      <td>400000</td>\n",
       "      <td>260455</td>\n",
       "      <td>-201641</td>\n",
       "      <td>NaN</td>\n",
       "      <td>frank.bay@enron.com</td>\n",
       "      <td>NaN</td>\n",
       "      <td>129142</td>\n",
       "      <td>NaN</td>\n",
       "      <td>NaN</td>\n",
       "      <td>NaN</td>\n",
       "      <td>...</td>\n",
       "      <td>NaN</td>\n",
       "      <td>69</td>\n",
       "      <td>False</td>\n",
       "      <td>145796</td>\n",
       "      <td>-82782</td>\n",
       "      <td>239671</td>\n",
       "      <td>NaN</td>\n",
       "      <td>NaN</td>\n",
       "      <td>827696</td>\n",
       "      <td>63014</td>\n",
       "    </tr>\n",
       "  </tbody>\n",
       "</table>\n",
       "<p>5 rows × 21 columns</p>\n",
       "</div>"
      ],
      "text/plain": [
       "                      bonus deferral_payments deferred_income director_fees  \\\n",
       "ALLEN PHILLIP K     4175000           2869717        -3081055           NaN   \n",
       "BADUM JAMES P           NaN            178980             NaN           NaN   \n",
       "BANNANTINE JAMES M      NaN               NaN           -5104           NaN   \n",
       "BAXTER JOHN C       1200000           1295738        -1386055           NaN   \n",
       "BAY FRANKLIN R       400000            260455         -201641           NaN   \n",
       "\n",
       "                                 email_address exercised_stock_options  \\\n",
       "ALLEN PHILLIP K        phillip.allen@enron.com                 1729541   \n",
       "BADUM JAMES P                              NaN                  257817   \n",
       "BANNANTINE JAMES M  james.bannantine@enron.com                 4046157   \n",
       "BAXTER JOHN C                              NaN                 6680544   \n",
       "BAY FRANKLIN R             frank.bay@enron.com                     NaN   \n",
       "\n",
       "                   expenses from_messages from_poi_to_this_person  \\\n",
       "ALLEN PHILLIP K       13868          2195                      47   \n",
       "BADUM JAMES P          3486           NaN                     NaN   \n",
       "BANNANTINE JAMES M    56301            29                      39   \n",
       "BAXTER JOHN C         11200           NaN                     NaN   \n",
       "BAY FRANKLIN R       129142           NaN                     NaN   \n",
       "\n",
       "                   from_this_person_to_poi        ...         \\\n",
       "ALLEN PHILLIP K                         65        ...          \n",
       "BADUM JAMES P                          NaN        ...          \n",
       "BANNANTINE JAMES M                       0        ...          \n",
       "BAXTER JOHN C                          NaN        ...          \n",
       "BAY FRANKLIN R                         NaN        ...          \n",
       "\n",
       "                   long_term_incentive    other    poi restricted_stock  \\\n",
       "ALLEN PHILLIP K                 304805      152  False           126027   \n",
       "BADUM JAMES P                      NaN      NaN  False              NaN   \n",
       "BANNANTINE JAMES M                 NaN   864523  False          1757552   \n",
       "BAXTER JOHN C                  1586055  2660303  False          3942714   \n",
       "BAY FRANKLIN R                     NaN       69  False           145796   \n",
       "\n",
       "                   restricted_stock_deferred  salary shared_receipt_with_poi  \\\n",
       "ALLEN PHILLIP K                      -126027  201955                    1407   \n",
       "BADUM JAMES P                            NaN     NaN                     NaN   \n",
       "BANNANTINE JAMES M                   -560222     477                     465   \n",
       "BAXTER JOHN C                            NaN  267102                     NaN   \n",
       "BAY FRANKLIN R                        -82782  239671                     NaN   \n",
       "\n",
       "                   to_messages total_payments total_stock_value  \n",
       "ALLEN PHILLIP K           2902        4484442           1729541  \n",
       "BADUM JAMES P              NaN         182466            257817  \n",
       "BANNANTINE JAMES M         566         916197           5243487  \n",
       "BAXTER JOHN C              NaN        5634343          10623258  \n",
       "BAY FRANKLIN R             NaN         827696             63014  \n",
       "\n",
       "[5 rows x 21 columns]"
      ]
     },
     "execution_count": 21,
     "metadata": {},
     "output_type": "execute_result"
    }
   ],
   "source": [
    "df.head()"
   ]
  },
  {
   "cell_type": "code",
   "execution_count": 22,
   "metadata": {
    "collapsed": false
   },
   "outputs": [
    {
     "data": {
      "text/plain": [
       "18"
      ]
     },
     "execution_count": 22,
     "metadata": {},
     "output_type": "execute_result"
    }
   ],
   "source": [
    "sum(df.poi == True)"
   ]
  },
  {
   "cell_type": "code",
   "execution_count": 95,
   "metadata": {
    "collapsed": false
   },
   "outputs": [
    {
     "name": "stdout",
     "output_type": "stream",
     "text": [
      "http://usatoday30.usatoday.com/money/industries/energy/2005-12-28-enron-participants_x.htm\r\n",
      "\r\n",
      "(y) Lay, Kenneth\r\n",
      "(y) Skilling, Jeffrey\r\n",
      "(n) Howard, Kevin\r\n",
      "(n) Krautz, Michael\r\n",
      "(n) Yeager, Scott\r\n",
      "(n) Hirko, Joseph\r\n",
      "(n) Shelby, Rex\r\n",
      "(n) Bermingham, David\r\n",
      "(n) Darby, Giles\r\n",
      "(n) Mulgrew, Gary\r\n",
      "(n) Bayley, Daniel\r\n",
      "(n) Brown, James\r\n",
      "(n) Furst, Robert\r\n",
      "(n) Fuhs, William\r\n",
      "(n) Causey, Richard\r\n",
      "(n) Calger, Christopher\r\n",
      "(n) DeSpain, Timothy\r\n",
      "(n) Hannon, Kevin\r\n",
      "(n) Koenig, Mark\r\n",
      "(y) Forney, John\r\n",
      "(n) Rice, Kenneth\r\n",
      "(n) Rieker, Paula\r\n",
      "(n) Fastow, Lea\r\n",
      "(n) Fastow, Andrew\r\n",
      "(y) Delainey, David\r\n",
      "(n) Glisan, Ben\r\n",
      "(n) Richter, Jeffrey\r\n",
      "(n) Lawyer, Larry\r\n",
      "(n) Belden, Timothy\r\n",
      "(n) Kopper, Michael\r\n",
      "(n) Duncan, David\r\n",
      "(n) Bowen, Raymond\r\n",
      "(n) Colwell, Wesley\r\n",
      "(n) Boyle, Dan\r\n",
      "(n) Loehr, Christopher\r\n"
     ]
    }
   ],
   "source": [
    "cat ud120-projects/final_project/poi_names.txt"
   ]
  },
  {
   "cell_type": "code",
   "execution_count": 28,
   "metadata": {
    "collapsed": false
   },
   "outputs": [
    {
     "name": "stdout",
     "output_type": "stream",
     "text": [
      "      37     106     748 ud120-projects/final_project/poi_names.txt\r\n"
     ]
    }
   ],
   "source": [
    "!wc ud120-projects/final_project/poi_names.txt"
   ]
  },
  {
   "cell_type": "code",
   "execution_count": 35,
   "metadata": {
    "collapsed": false
   },
   "outputs": [
    {
     "data": {
      "text/plain": [
       "1095040"
      ]
     },
     "execution_count": 35,
     "metadata": {},
     "output_type": "execute_result"
    }
   ],
   "source": [
    "df.ix['PRENTICE JAMES', 'total_stock_value']"
   ]
  },
  {
   "cell_type": "code",
   "execution_count": 37,
   "metadata": {
    "collapsed": false
   },
   "outputs": [
    {
     "data": {
      "text/plain": [
       "11"
      ]
     },
     "execution_count": 37,
     "metadata": {},
     "output_type": "execute_result"
    }
   ],
   "source": [
    "df.ix['COLWELL WESLEY', 'from_this_person_to_poi']"
   ]
  },
  {
   "cell_type": "code",
   "execution_count": 43,
   "metadata": {
    "collapsed": false
   },
   "outputs": [
    {
     "data": {
      "text/plain": [
       "bonus                                        5600000\n",
       "deferral_payments                                NaN\n",
       "deferred_income                                  NaN\n",
       "director_fees                                    NaN\n",
       "email_address                jeff.skilling@enron.com\n",
       "exercised_stock_options                     19250000\n",
       "expenses                                       29336\n",
       "from_messages                                    108\n",
       "from_poi_to_this_person                           88\n",
       "from_this_person_to_poi                           30\n",
       "loan_advances                                    NaN\n",
       "long_term_incentive                          1920000\n",
       "other                                          22122\n",
       "poi                                             True\n",
       "restricted_stock                             6843672\n",
       "restricted_stock_deferred                        NaN\n",
       "salary                                       1111258\n",
       "shared_receipt_with_poi                         2042\n",
       "to_messages                                     3627\n",
       "total_payments                               8682716\n",
       "total_stock_value                           26093672\n",
       "Name: SKILLING JEFFREY K, dtype: object"
      ]
     },
     "execution_count": 43,
     "metadata": {},
     "output_type": "execute_result"
    }
   ],
   "source": [
    "df.ix['SKILLING JEFFREY K']"
   ]
  },
  {
   "cell_type": "code",
   "execution_count": 48,
   "metadata": {
    "collapsed": false
   },
   "outputs": [
    {
     "data": {
      "text/plain": [
       "Index([u'LAY KENNETH L'], dtype='object')"
      ]
     },
     "execution_count": 48,
     "metadata": {},
     "output_type": "execute_result"
    }
   ],
   "source": [
    "df.index[df.index.str.find(\"LAY\") > -1]"
   ]
  },
  {
   "cell_type": "code",
   "execution_count": 64,
   "metadata": {
    "collapsed": false
   },
   "outputs": [
    {
     "data": {
      "text/html": [
       "<div>\n",
       "<table border=\"1\" class=\"dataframe\">\n",
       "  <thead>\n",
       "    <tr style=\"text-align: right;\">\n",
       "      <th></th>\n",
       "      <th>exercised_stock_options</th>\n",
       "      <th>bonus</th>\n",
       "      <th>long_term_incentive</th>\n",
       "      <th>salary</th>\n",
       "      <th>total_payments</th>\n",
       "    </tr>\n",
       "  </thead>\n",
       "  <tbody>\n",
       "    <tr>\n",
       "      <th>SKILLING JEFFREY K</th>\n",
       "      <td>19250000</td>\n",
       "      <td>5600000</td>\n",
       "      <td>1920000</td>\n",
       "      <td>1111258</td>\n",
       "      <td>8682716</td>\n",
       "    </tr>\n",
       "    <tr>\n",
       "      <th>LAY KENNETH L</th>\n",
       "      <td>34348384</td>\n",
       "      <td>7000000</td>\n",
       "      <td>3600000</td>\n",
       "      <td>1072321</td>\n",
       "      <td>103559793</td>\n",
       "    </tr>\n",
       "    <tr>\n",
       "      <th>FASTOW ANDREW</th>\n",
       "      <td>NaN</td>\n",
       "      <td>NaN</td>\n",
       "      <td>NaN</td>\n",
       "      <td>NaN</td>\n",
       "      <td>NaN</td>\n",
       "    </tr>\n",
       "  </tbody>\n",
       "</table>\n",
       "</div>"
      ],
      "text/plain": [
       "                   exercised_stock_options    bonus long_term_incentive  \\\n",
       "SKILLING JEFFREY K                19250000  5600000             1920000   \n",
       "LAY KENNETH L                     34348384  7000000             3600000   \n",
       "FASTOW ANDREW                          NaN      NaN                 NaN   \n",
       "\n",
       "                     salary total_payments  \n",
       "SKILLING JEFFREY K  1111258        8682716  \n",
       "LAY KENNETH L       1072321      103559793  \n",
       "FASTOW ANDREW           NaN            NaN  "
      ]
     },
     "execution_count": 64,
     "metadata": {},
     "output_type": "execute_result"
    }
   ],
   "source": [
    "df.ix[['SKILLING JEFFREY K', 'LAY KENNETH L', 'FASTOW ANDREW'], [\"exercised_stock_options\", \"bonus\", \"long_term_incentive\", \"salary\", \"total_payments\"]]"
   ]
  },
  {
   "cell_type": "code",
   "execution_count": 73,
   "metadata": {
    "collapsed": false
   },
   "outputs": [
    {
     "data": {
      "text/plain": [
       "(95, 21)"
      ]
     },
     "execution_count": 73,
     "metadata": {},
     "output_type": "execute_result"
    }
   ],
   "source": [
    "df[df['salary'] != 'NaN'].shape"
   ]
  },
  {
   "cell_type": "code",
   "execution_count": 74,
   "metadata": {
    "collapsed": false
   },
   "outputs": [
    {
     "data": {
      "text/plain": [
       "(111, 21)"
      ]
     },
     "execution_count": 74,
     "metadata": {},
     "output_type": "execute_result"
    }
   ],
   "source": [
    "df[df['email_address'] != 'NaN'].shape"
   ]
  },
  {
   "cell_type": "code",
   "execution_count": 79,
   "metadata": {
    "collapsed": false
   },
   "outputs": [],
   "source": [
    "import numpy as np\n",
    "\n",
    "def featureFormat( dictionary, features, remove_NaN=True, remove_all_zeroes=True, remove_any_zeroes=False, sort_keys = False):\n",
    "    \"\"\" convert dictionary to numpy array of features\n",
    "        remove_NaN = True will convert \"NaN\" string to 0.0\n",
    "        remove_all_zeroes = True will omit any data points for which\n",
    "            all the features you seek are 0.0\n",
    "        remove_any_zeroes = True will omit any data points for which\n",
    "            any of the features you seek are 0.0\n",
    "        sort_keys = True sorts keys by alphabetical order. Setting the value as\n",
    "            a string opens the corresponding pickle file with a preset key\n",
    "            order (this is used for Python 3 compatibility, and sort_keys\n",
    "            should be left as False for the course mini-projects).\n",
    "        NOTE: first feature is assumed to be 'poi' and is not checked for\n",
    "            removal for zero or missing values.\n",
    "    \"\"\"\n",
    "\n",
    "\n",
    "    return_list = []\n",
    "\n",
    "    # Key order - first branch is for Python 3 compatibility on mini-projects,\n",
    "    # second branch is for compatibility on final project.\n",
    "    if isinstance(sort_keys, str):\n",
    "        import pickle\n",
    "        keys = pickle.load(open(sort_keys, \"rb\"))\n",
    "    elif sort_keys:\n",
    "        keys = sorted(dictionary.keys())\n",
    "    else:\n",
    "        keys = dictionary.keys()\n",
    "\n",
    "    for key in keys:\n",
    "        tmp_list = []\n",
    "        for feature in features:\n",
    "            try:\n",
    "                dictionary[key][feature]\n",
    "            except KeyError:\n",
    "                print \"error: key \", feature, \" not present\"\n",
    "                return\n",
    "            value = dictionary[key][feature]\n",
    "            if value==\"NaN\" and remove_NaN:\n",
    "                value = 0\n",
    "            tmp_list.append( float(value) )\n",
    "\n",
    "        # Logic for deciding whether or not to add the data point.\n",
    "        append = True\n",
    "        # exclude 'poi' class as criteria.\n",
    "        if features[0] == 'poi':\n",
    "            test_list = tmp_list[1:]\n",
    "        else:\n",
    "            test_list = tmp_list\n",
    "        ### if all features are zero and you want to remove\n",
    "        ### data points that are all zero, do that here\n",
    "        if remove_all_zeroes:\n",
    "            append = False\n",
    "            for item in test_list:\n",
    "                if item != 0 and item != \"NaN\":\n",
    "                    append = True\n",
    "                    break\n",
    "        ### if any features for a given data point are zero\n",
    "        ### and you want to remove data points with any zeroes,\n",
    "        ### handle that here\n",
    "        if remove_any_zeroes:\n",
    "            if 0 in test_list or \"NaN\" in test_list:\n",
    "                append = False\n",
    "        ### Append the data point if flagged for addition.\n",
    "        if append:\n",
    "            return_list.append( np.array(tmp_list) )\n",
    "\n",
    "    return np.array(return_list)\n",
    "\n",
    "\n",
    "def targetFeatureSplit( data ):\n",
    "    \"\"\" \n",
    "        given a numpy array like the one returned from\n",
    "        featureFormat, separate out the first feature\n",
    "        and put it into its own list (this should be the \n",
    "        quantity you want to predict)\n",
    "\n",
    "        return targets and features as separate lists\n",
    "\n",
    "        (sklearn can generally handle both lists and numpy arrays as \n",
    "        input formats when training/predicting)\n",
    "    \"\"\"\n",
    "\n",
    "    target = []\n",
    "    features = []\n",
    "    for item in data:\n",
    "        target.append( item[0] )\n",
    "        features.append( item[1:] )\n",
    "\n",
    "    return target, features"
   ]
  },
  {
   "cell_type": "code",
   "execution_count": 85,
   "metadata": {
    "collapsed": false
   },
   "outputs": [
    {
     "data": {
      "text/plain": [
       "0.14383561643835616"
      ]
     },
     "execution_count": 85,
     "metadata": {},
     "output_type": "execute_result"
    }
   ],
   "source": [
    "sum(df['total_payments'] == 'NaN') / float(df.shape[0])"
   ]
  },
  {
   "cell_type": "code",
   "execution_count": 92,
   "metadata": {
    "collapsed": false
   },
   "outputs": [
    {
     "data": {
      "text/plain": [
       "21"
      ]
     },
     "execution_count": 92,
     "metadata": {},
     "output_type": "execute_result"
    }
   ],
   "source": [
    "sum(df['total_payments'] == 'NaN')"
   ]
  },
  {
   "cell_type": "code",
   "execution_count": 100,
   "metadata": {
    "collapsed": false
   },
   "outputs": [],
   "source": [
    "f = open('ud120-projects/final_project/poi_names.txt')\n",
    "f.next()\n",
    "f.next()\n",
    "pois = [''.join(line.strip().split()[1:3]).replace(',',' ').upper() for line in f]"
   ]
  },
  {
   "cell_type": "code",
   "execution_count": 94,
   "metadata": {
    "collapsed": false
   },
   "outputs": [
    {
     "data": {
      "text/plain": [
       "0.6"
      ]
     },
     "execution_count": 94,
     "metadata": {},
     "output_type": "execute_result"
    }
   ],
   "source": [
    "21/35."
   ]
  },
  {
   "cell_type": "code",
   "execution_count": 101,
   "metadata": {
    "collapsed": false
   },
   "outputs": [
    {
     "data": {
      "text/plain": [
       "['LAY KENNETH', 'SKILLING JEFFREY', 'HOWARD KEVIN']"
      ]
     },
     "execution_count": 101,
     "metadata": {},
     "output_type": "execute_result"
    }
   ],
   "source": [
    "pois[:3]"
   ]
  },
  {
   "cell_type": "code",
   "execution_count": 108,
   "metadata": {
    "collapsed": false
   },
   "outputs": [],
   "source": [
    "name2total_payments = {}\n",
    "for i, row in df.iterrows():\n",
    "    name2total_payments[' '.join(i.split(' ')[:2])] = row['total_payments']"
   ]
  },
  {
   "cell_type": "code",
   "execution_count": 119,
   "metadata": {
    "collapsed": false
   },
   "outputs": [
    {
     "name": "stdout",
     "output_type": "stream",
     "text": [
      "103559793\n",
      "8682716\n",
      "91093\n",
      "2003885\n",
      "1868758\n",
      "1639297\n",
      "288682\n",
      "1587421\n",
      "505050\n",
      "1099100\n",
      "2424083\n",
      "4747979\n",
      "5501630\n",
      "2652612\n",
      "1490344\n",
      "0\n"
     ]
    }
   ],
   "source": [
    "x = 0\n",
    "kes = 0\n",
    "for poi in pois:\n",
    "    try:\n",
    "        print name2total_payments[poi]\n",
    "        if name2total_payments[poi] == 'NaN':\n",
    "            x += 1\n",
    "    except KeyError:\n",
    "        kes += 1\n",
    "        continue\n",
    "print x\n",
    "    "
   ]
  },
  {
   "cell_type": "code",
   "execution_count": 122,
   "metadata": {
    "collapsed": false
   },
   "outputs": [
    {
     "data": {
      "text/plain": [
       "0.5714285714285714"
      ]
     },
     "execution_count": 122,
     "metadata": {},
     "output_type": "execute_result"
    }
   ],
   "source": [
    "kes / 35."
   ]
  },
  {
   "cell_type": "code",
   "execution_count": 112,
   "metadata": {
    "collapsed": false
   },
   "outputs": [
    {
     "data": {
      "text/plain": [
       "['METTS MARK',\n",
       " 'ELLIOTT STEVEN',\n",
       " 'DETMERING TIMOTHY',\n",
       " 'MCMAHON JEFFREY',\n",
       " 'BIBI PHILIPPE',\n",
       " 'FUGH JOHN',\n",
       " 'HAYSLETT RODERICK',\n",
       " 'DIETRICH JANET',\n",
       " 'SUNDE MARTIN',\n",
       " 'FASTOW ANDREW',\n",
       " 'COLWELL WESLEY',\n",
       " 'MORDAUNT KRISTINA',\n",
       " 'BANNANTINE JAMES',\n",
       " 'GAHN ROBERT',\n",
       " 'FALLON JAMES',\n",
       " 'KITCHEN LOUISE',\n",
       " 'CHAN RONNIE',\n",
       " 'BELFER ROBERT',\n",
       " 'TOTAL',\n",
       " 'BAY FRANKLIN',\n",
       " 'WODRASKA JOHN',\n",
       " 'DURAN WILLIAM',\n",
       " 'OLSON CINDY',\n",
       " 'BAXTER JOHN',\n",
       " 'HICKERSON GARY',\n",
       " 'LINDHOLM TOD',\n",
       " 'LAY KENNETH',\n",
       " 'SHARP VICTORIA',\n",
       " 'MEYER ROCKFORD',\n",
       " 'CAUSEY RICHARD',\n",
       " 'HERMANN ROBERT',\n",
       " 'MENDELSOHN JOHN',\n",
       " 'IZZO LAWRENCE',\n",
       " 'DELAINEY DAVID',\n",
       " 'SHERRICK JEFFREY',\n",
       " 'GATHMANN WILLIAM',\n",
       " 'SHAPIRO RICHARD',\n",
       " 'KOENIG MARK',\n",
       " 'LEWIS RICHARD',\n",
       " 'MCCARTY DANNY',\n",
       " 'WHALEY DAVID',\n",
       " 'DUNCAN JOHN',\n",
       " 'CHRISTODOULOU DIOMEDES',\n",
       " 'BERBERIAN DAVID',\n",
       " 'GIBBS DANA',\n",
       " 'HUMPHREY GENE',\n",
       " 'WAKEHAM JOHN',\n",
       " 'KOPPER MICHAEL',\n",
       " 'POWERS WILLIAM',\n",
       " 'GOLD JOSEPH',\n",
       " 'MCCONNELL MICHAEL',\n",
       " 'MEYER JEROME',\n",
       " 'GLISAN JR',\n",
       " 'UMANOFF ADAM',\n",
       " 'CUMBERLAND MICHAEL',\n",
       " 'FREVERT MARK',\n",
       " 'SHELBY REX',\n",
       " 'MURRAY JULIA',\n",
       " 'LAVORATO JOHN',\n",
       " 'LEMAISTRE CHARLES',\n",
       " 'DONAHUE JR',\n",
       " 'SKILLING JEFFREY',\n",
       " 'ALLEN PHILLIP',\n",
       " 'BUY RICHARD',\n",
       " 'WALTERS GARETH',\n",
       " 'LOWRY CHARLES',\n",
       " 'MARTIN AMANDA',\n",
       " 'JACKSON CHARLENE',\n",
       " 'TAYLOR MITCHELL',\n",
       " 'WHALLEY LAWRENCE',\n",
       " 'PIRO JIM',\n",
       " 'PICKERING MARK',\n",
       " 'SULLIVAN-SHAKLOVITZ COLLEEN',\n",
       " 'WROBEL BRUCE',\n",
       " 'PEREIRA PAULO',\n",
       " 'OVERDYKE JR',\n",
       " 'FOY JOE',\n",
       " 'THE TRAVEL',\n",
       " 'BADUM JAMES',\n",
       " 'MCDONALD REBECCA',\n",
       " 'MORAN MICHAEL',\n",
       " 'BLACHMAN JEREMY',\n",
       " 'MCCLELLAN GEORGE',\n",
       " 'HANNON KEVIN',\n",
       " 'GARLAND C',\n",
       " 'GILLIS JOHN',\n",
       " 'KISHKILL JOSEPH',\n",
       " 'DEFFNER JOSEPH',\n",
       " 'BECK SALLY',\n",
       " 'THORN TERENCE',\n",
       " 'HUGHES JAMES',\n",
       " 'KEAN STEVEN',\n",
       " 'PAI LOU',\n",
       " 'BLAKE JR.',\n",
       " 'WINOKUR JR.',\n",
       " 'LOCKHART EUGENE',\n",
       " 'BOWEN JR',\n",
       " 'LEFF DANIEL',\n",
       " 'SHERRIFF JOHN',\n",
       " 'HAEDICKE MARK',\n",
       " 'BAZELIDES PHILIP',\n",
       " 'COX DAVID',\n",
       " 'BELDEN TIMOTHY',\n",
       " 'STABLER FRANK',\n",
       " 'PIPER GREGORY',\n",
       " 'PRENTICE JAMES',\n",
       " 'GRAY RODNEY',\n",
       " 'CARTER REBECCA',\n",
       " 'FOWLER PEGGY',\n",
       " 'WASAFF GEORGE',\n",
       " 'BERGSIEKER RICHARD',\n",
       " 'WHITE JR',\n",
       " 'JAEDICKE ROBERT',\n",
       " 'BROWN MICHAEL',\n",
       " 'DERRICK JR.',\n",
       " 'HORTON STANLEY',\n",
       " 'WALLS JR',\n",
       " 'REYNOLDS LAWRENCE',\n",
       " 'HAUG DAVID',\n",
       " 'BHATNAGAR SANJAY',\n",
       " 'YEAP SOON',\n",
       " 'TILNEY ELIZABETH',\n",
       " 'REDMOND BRIAN',\n",
       " 'HAYES ROBERT',\n",
       " 'YEAGER F',\n",
       " 'DODSON KEITH',\n",
       " 'RIEKER PAULA',\n",
       " 'HIRKO JOSEPH',\n",
       " 'DIMICHELE RICHARD',\n",
       " 'RICE KENNETH',\n",
       " 'KAMINSKI WINCENTY',\n",
       " 'BUTTS ROBERT',\n",
       " 'CALGER CHRISTOPHER',\n",
       " 'URQUHART JOHN',\n",
       " 'FITZGERALD JAY',\n",
       " 'GRAMM WENDY',\n",
       " 'CLINE KENNETH',\n",
       " 'SCRIMSHAW MATTHEW',\n",
       " 'SAVAGE FRANK',\n",
       " 'SHANKMAN JEFFREY',\n",
       " 'ECHOLS JOHN',\n",
       " 'CORDES WILLIAM',\n",
       " 'WESTFAHL RICHARD',\n",
       " 'BUCHANAN HAROLD',\n",
       " 'NOLES JAMES',\n",
       " 'MULLER MARK']"
      ]
     },
     "execution_count": 112,
     "metadata": {},
     "output_type": "execute_result"
    }
   ],
   "source": [
    "name2total_payments.keys()"
   ]
  },
  {
   "cell_type": "code",
   "execution_count": 111,
   "metadata": {
    "collapsed": false
   },
   "outputs": [
    {
     "data": {
      "text/plain": [
       "['LAY KENNETH',\n",
       " 'SKILLING JEFFREY',\n",
       " 'HOWARD KEVIN',\n",
       " 'KRAUTZ MICHAEL',\n",
       " 'YEAGER SCOTT',\n",
       " 'HIRKO JOSEPH',\n",
       " 'SHELBY REX',\n",
       " 'BERMINGHAM DAVID',\n",
       " 'DARBY GILES',\n",
       " 'MULGREW GARY',\n",
       " 'BAYLEY DANIEL',\n",
       " 'BROWN JAMES',\n",
       " 'FURST ROBERT',\n",
       " 'FUHS WILLIAM',\n",
       " 'CAUSEY RICHARD',\n",
       " 'CALGER CHRISTOPHER',\n",
       " 'DESPAIN TIMOTHY',\n",
       " 'HANNON KEVIN',\n",
       " 'KOENIG MARK',\n",
       " 'FORNEY JOHN',\n",
       " 'RICE KENNETH',\n",
       " 'RIEKER PAULA',\n",
       " 'FASTOW LEA',\n",
       " 'FASTOW ANDREW',\n",
       " 'DELAINEY DAVID',\n",
       " 'GLISAN BEN',\n",
       " 'RICHTER JEFFREY',\n",
       " 'LAWYER LARRY',\n",
       " 'BELDEN TIMOTHY',\n",
       " 'KOPPER MICHAEL',\n",
       " 'DUNCAN DAVID',\n",
       " 'BOWEN RAYMOND',\n",
       " 'COLWELL WESLEY',\n",
       " 'BOYLE DAN',\n",
       " 'LOEHR CHRISTOPHER']"
      ]
     },
     "execution_count": 111,
     "metadata": {},
     "output_type": "execute_result"
    }
   ],
   "source": [
    "name2total_payments.keys()"
   ]
  },
  {
   "cell_type": "code",
   "execution_count": 129,
   "metadata": {
    "collapsed": false
   },
   "outputs": [
    {
     "data": {
      "text/plain": [
       "0"
      ]
     },
     "execution_count": 129,
     "metadata": {},
     "output_type": "execute_result"
    }
   ],
   "source": [
    "df.apply(lambda row: row['poi'] and row['total_payments'] == 'NaN', axis=1).sum()"
   ]
  },
  {
   "cell_type": "code",
   "execution_count": 130,
   "metadata": {
    "collapsed": false
   },
   "outputs": [
    {
     "data": {
      "text/plain": [
       "(146, 21)"
      ]
     },
     "execution_count": 130,
     "metadata": {},
     "output_type": "execute_result"
    }
   ],
   "source": [
    "df.shape"
   ]
  },
  {
   "cell_type": "code",
   "execution_count": 131,
   "metadata": {
    "collapsed": false
   },
   "outputs": [
    {
     "data": {
      "text/plain": [
       "21"
      ]
     },
     "execution_count": 131,
     "metadata": {},
     "output_type": "execute_result"
    }
   ],
   "source": [
    "(df.total_payments == 'NaN').sum()"
   ]
  },
  {
   "cell_type": "code",
   "execution_count": null,
   "metadata": {
    "collapsed": true
   },
   "outputs": [],
   "source": [
    "enron_data"
   ]
  }
 ],
 "metadata": {
  "kernelspec": {
   "display_name": "Python 2",
   "language": "python",
   "name": "python2"
  },
  "language_info": {
   "codemirror_mode": {
    "name": "ipython",
    "version": 2
   },
   "file_extension": ".py",
   "mimetype": "text/x-python",
   "name": "python",
   "nbconvert_exporter": "python",
   "pygments_lexer": "ipython2",
   "version": "2.7.10"
  }
 },
 "nbformat": 4,
 "nbformat_minor": 0
}
