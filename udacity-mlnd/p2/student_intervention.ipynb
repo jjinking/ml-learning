{
 "cells": [
  {
   "cell_type": "markdown",
   "metadata": {
    "ein.tags": [
     "worksheet-0"
    ]
   },
   "source": [
    "# Project 2: Supervised Learning\n",
    "### Building a Student Intervention System"
   ]
  },
  {
   "cell_type": "markdown",
   "metadata": {
    "ein.tags": [
     "worksheet-0"
    ]
   },
   "source": [
    "## 1. Classification vs Regression\n",
    "\n",
    "Your goal is to identify students who might need early intervention - which type of supervised machine learning problem is this, classification or regression? Why?\n",
    "\n",
    "This is a binary classification problem because the target variable we're trying to predict is either 1 or 0, representing whether intervention is needed or not, respectively."
   ]
  },
  {
   "cell_type": "markdown",
   "metadata": {
    "ein.tags": [
     "worksheet-0"
    ]
   },
   "source": [
    "## 2. Exploring the Data\n",
    "\n",
    "Let's go ahead and read in the student dataset first.\n",
    "\n",
    "_To execute a code cell, click inside it and press **Shift+Enter**._"
   ]
  },
  {
   "cell_type": "code",
   "execution_count": 1,
   "metadata": {
    "autoscroll": "json-false",
    "collapsed": false,
    "ein.tags": [
     "worksheet-0"
    ]
   },
   "outputs": [],
   "source": [
    "# Import libraries\n",
    "import numpy as np\n",
    "import pandas as pd"
   ]
  },
  {
   "cell_type": "code",
   "execution_count": 2,
   "metadata": {
    "autoscroll": "json-false",
    "collapsed": false,
    "ein.tags": [
     "worksheet-0"
    ]
   },
   "outputs": [
    {
     "name": "stdout",
     "output_type": "stream",
     "text": [
      "Student data read successfully!\n"
     ]
    }
   ],
   "source": [
    "# Read student data\n",
    "student_data = pd.read_csv(\"student-data.csv\")\n",
    "print \"Student data read successfully!\"\n",
    "# Note: The last column 'passed' is the target/label, all other are feature columns"
   ]
  },
  {
   "cell_type": "markdown",
   "metadata": {
    "ein.tags": [
     "worksheet-0"
    ]
   },
   "source": [
    "Now, can you find out the following facts about the dataset?\n",
    "- Total number of students\n",
    "- Number of students who passed\n",
    "- Number of students who failed\n",
    "- Graduation rate of the class (%)\n",
    "- Number of features\n",
    "\n",
    "_Use the code block below to compute these values. Instructions/steps are marked using **TODO**s._"
   ]
  },
  {
   "cell_type": "code",
   "execution_count": 3,
   "metadata": {
    "autoscroll": "json-false",
    "collapsed": false,
    "ein.tags": [
     "worksheet-0"
    ]
   },
   "outputs": [
    {
     "name": "stdout",
     "output_type": "stream",
     "text": [
      "Total number of students: 395\n",
      "Number of students who passed: 265\n",
      "Number of students who failed: 130\n",
      "Number of features: 30\n",
      "Graduation rate of the class: 67.09%\n"
     ]
    }
   ],
   "source": [
    "# TODO: Compute desired values - replace each '?' with an appropriate expression/function call\n",
    "n_students = student_data.shape[0]\n",
    "n_features = student_data.shape[1] - 1\n",
    "n_passed = student_data['passed'].value_counts()['yes']\n",
    "n_failed = student_data['passed'].value_counts()['no']\n",
    "grad_rate = 100 * float(n_passed) / (n_passed + n_failed)\n",
    "print \"Total number of students: {}\".format(n_students)\n",
    "print \"Number of students who passed: {}\".format(n_passed)\n",
    "print \"Number of students who failed: {}\".format(n_failed)\n",
    "print \"Number of features: {}\".format(n_features)\n",
    "print \"Graduation rate of the class: {:.2f}%\".format(grad_rate)"
   ]
  },
  {
   "cell_type": "markdown",
   "metadata": {
    "ein.tags": [
     "worksheet-0"
    ]
   },
   "source": [
    "## 3. Preparing the Data\n",
    "In this section, we will prepare the data for modeling, training and testing.\n",
    "\n",
    "### Identify feature and target columns\n",
    "It is often the case that the data you obtain contains non-numeric features. This can be a problem, as most machine learning algorithms expect numeric data to perform computations with.\n",
    "\n",
    "Let's first separate our data into feature and target columns, and see if any features are non-numeric.<br/>\n",
    "**Note**: For this dataset, the last column (`'passed'`) is the target or label we are trying to predict."
   ]
  },
  {
   "cell_type": "code",
   "execution_count": 4,
   "metadata": {
    "autoscroll": "json-false",
    "collapsed": false,
    "ein.tags": [
     "worksheet-0"
    ]
   },
   "outputs": [
    {
     "name": "stdout",
     "output_type": "stream",
     "text": [
      "Feature column(s):-\n",
      "['school', 'sex', 'age', 'address', 'famsize', 'Pstatus', 'Medu', 'Fedu', 'Mjob', 'Fjob', 'reason', 'guardian', 'traveltime', 'studytime', 'failures', 'schoolsup', 'famsup', 'paid', 'activities', 'nursery', 'higher', 'internet', 'romantic', 'famrel', 'freetime', 'goout', 'Dalc', 'Walc', 'health', 'absences']\n",
      "Target column: passed\n",
      "\n",
      "Feature values:-\n",
      "  school sex  age address famsize Pstatus  Medu  Fedu     Mjob      Fjob  \\\n",
      "0     GP   F   18       U     GT3       A     4     4  at_home   teacher   \n",
      "1     GP   F   17       U     GT3       T     1     1  at_home     other   \n",
      "2     GP   F   15       U     LE3       T     1     1  at_home     other   \n",
      "3     GP   F   15       U     GT3       T     4     2   health  services   \n",
      "4     GP   F   16       U     GT3       T     3     3    other     other   \n",
      "\n",
      "    ...    higher internet  romantic  famrel  freetime goout Dalc Walc health  \\\n",
      "0   ...       yes       no        no       4         3     4    1    1      3   \n",
      "1   ...       yes      yes        no       5         3     3    1    1      3   \n",
      "2   ...       yes      yes        no       4         3     2    2    3      3   \n",
      "3   ...       yes      yes       yes       3         2     2    1    1      5   \n",
      "4   ...       yes       no        no       4         3     2    1    2      5   \n",
      "\n",
      "  absences  \n",
      "0        6  \n",
      "1        4  \n",
      "2       10  \n",
      "3        2  \n",
      "4        4  \n",
      "\n",
      "[5 rows x 30 columns]\n"
     ]
    }
   ],
   "source": [
    "# Extract feature (X) and target (y) columns\n",
    "feature_cols = list(student_data.columns[:-1])  # all columns but last are features\n",
    "target_col = student_data.columns[-1]  # last column is the target/label\n",
    "print \"Feature column(s):-\\n{}\".format(feature_cols)\n",
    "print \"Target column: {}\".format(target_col)\n",
    "\n",
    "X_all = student_data[feature_cols]  # feature values for all students\n",
    "y_all = student_data[target_col]  # corresponding targets/labels\n",
    "print \"\\nFeature values:-\"\n",
    "print X_all.head()  # print the first 5 rows"
   ]
  },
  {
   "cell_type": "markdown",
   "metadata": {
    "ein.tags": [
     "worksheet-0"
    ]
   },
   "source": [
    "### Preprocess feature columns\n",
    "\n",
    "As you can see, there are several non-numeric columns that need to be converted! Many of them are simply `yes`/`no`, e.g. `internet`. These can be reasonably converted into `1`/`0` (binary) values.\n",
    "\n",
    "Other columns, like `Mjob` and `Fjob`, have more than two values, and are known as _categorical variables_. The recommended way to handle such a column is to create as many columns as possible values (e.g. `Fjob_teacher`, `Fjob_other`, `Fjob_services`, etc.), and assign a `1` to one of them and `0` to all others.\n",
    "\n",
    "These generated columns are sometimes called _dummy variables_, and we will use the [`pandas.get_dummies()`](http://pandas.pydata.org/pandas-docs/stable/generated/pandas.get_dummies.html?highlight=get_dummies#pandas.get_dummies) function to perform this transformation."
   ]
  },
  {
   "cell_type": "code",
   "execution_count": 5,
   "metadata": {
    "autoscroll": "json-false",
    "collapsed": false,
    "ein.tags": [
     "worksheet-0"
    ]
   },
   "outputs": [
    {
     "name": "stdout",
     "output_type": "stream",
     "text": [
      "Processed feature columns (48):-\n",
      "['school_GP', 'school_MS', 'sex_F', 'sex_M', 'age', 'address_R', 'address_U', 'famsize_GT3', 'famsize_LE3', 'Pstatus_A', 'Pstatus_T', 'Medu', 'Fedu', 'Mjob_at_home', 'Mjob_health', 'Mjob_other', 'Mjob_services', 'Mjob_teacher', 'Fjob_at_home', 'Fjob_health', 'Fjob_other', 'Fjob_services', 'Fjob_teacher', 'reason_course', 'reason_home', 'reason_other', 'reason_reputation', 'guardian_father', 'guardian_mother', 'guardian_other', 'traveltime', 'studytime', 'failures', 'schoolsup', 'famsup', 'paid', 'activities', 'nursery', 'higher', 'internet', 'romantic', 'famrel', 'freetime', 'goout', 'Dalc', 'Walc', 'health', 'absences']\n"
     ]
    }
   ],
   "source": [
    "# Preprocess feature columns\n",
    "def preprocess_features(X):\n",
    "    outX = pd.DataFrame(index=X.index)  # output dataframe, initially empty\n",
    "\n",
    "    # Check each column\n",
    "    for col, col_data in X.iteritems():\n",
    "        # If data type is non-numeric, try to replace all yes/no values with 1/0\n",
    "        if col_data.dtype == object:\n",
    "            col_data = col_data.replace(['yes', 'no'], [1, 0])\n",
    "        # Note: This should change the data type for yes/no columns to int\n",
    "\n",
    "        # If still non-numeric, convert to one or more dummy variables\n",
    "        if col_data.dtype == object:\n",
    "            col_data = pd.get_dummies(col_data, prefix=col)  # e.g. 'school' => 'school_GP', 'school_MS'\n",
    "\n",
    "        outX = outX.join(col_data)  # collect column(s) in output dataframe\n",
    "\n",
    "    return outX\n",
    "\n",
    "X_all = preprocess_features(X_all)\n",
    "print \"Processed feature columns ({}):-\\n{}\".format(len(X_all.columns), list(X_all.columns))"
   ]
  },
  {
   "cell_type": "markdown",
   "metadata": {
    "ein.tags": [
     "worksheet-0"
    ]
   },
   "source": [
    "### Split data into training and test sets\n",
    "\n",
    "So far, we have converted all _categorical_ features into numeric values. In this next step, we split the data (both features and corresponding labels) into training and test sets."
   ]
  },
  {
   "cell_type": "code",
   "execution_count": 6,
   "metadata": {
    "autoscroll": "json-false",
    "collapsed": false,
    "ein.tags": [
     "worksheet-0"
    ]
   },
   "outputs": [
    {
     "name": "stdout",
     "output_type": "stream",
     "text": [
      "Training set: 300 samples\n",
      "Test set: 95 samples\n"
     ]
    }
   ],
   "source": [
    "# First, decide how many training vs test samples you want\n",
    "num_all = student_data.shape[0]  # same as len(student_data)\n",
    "num_train = 300  # about 75% of the data\n",
    "num_test = num_all - num_train\n",
    "\n",
    "# TODO: Then, select features (X) and corresponding labels (y) for the training and test sets\n",
    "# Note: Shuffle the data or randomly select samples to avoid any bias due to ordering in the dataset\n",
    "from sklearn.cross_validation import train_test_split\n",
    "\n",
    "X_train, X_test, y_train, y_test = train_test_split(X_all, y_all, test_size=num_test, random_state=0)\n",
    "print \"Training set: {} samples\".format(X_train.shape[0])\n",
    "print \"Test set: {} samples\".format(X_test.shape[0])\n",
    "# Note: If you need a validation set, extract it from within training data"
   ]
  },
  {
   "cell_type": "markdown",
   "metadata": {
    "ein.tags": [
     "worksheet-0"
    ]
   },
   "source": [
    "## 4. Training and Evaluating Models\n",
    "Choose 3 supervised learning models that are available in scikit-learn, and appropriate for this problem. For each model:\n",
    "\n",
    "perceptron\n",
    "k-nearest\n",
    "svc\n",
    "random forest\n",
    "gradient boosting classifier\n",
    "adaboostclassifier\n",
    "\n",
    "- What are the general applications of this model? What are its strengths and weaknesses?\n",
    "- Given what you know about the data so far, why did you choose this model to apply?\n",
    "- Fit this model to the training data, try to predict labels (for both training and test sets), and measure the F<sub>1</sub> score. Repeat this process with different training set sizes (100, 200, 300), keeping test set constant.\n",
    "\n",
    "Produce a table showing training time, prediction time, F<sub>1</sub> score on training set and F<sub>1</sub> score on test set, for each training set size.\n",
    "\n",
    "Note: You need to produce 3 such tables - one for each model."
   ]
  },
  {
   "cell_type": "code",
   "execution_count": 118,
   "metadata": {
    "autoscroll": "json-false",
    "collapsed": false,
    "ein.tags": [
     "worksheet-0"
    ]
   },
   "outputs": [
    {
     "name": "stdout",
     "output_type": "stream",
     "text": [
      "Training Perceptron...\n",
      "Done!\n",
      "Training time (secs): 0.001\n"
     ]
    }
   ],
   "source": [
    "# Train a model\n",
    "import time\n",
    "\n",
    "def train_classifier(clf, X_train, y_train):\n",
    "    print \"Training {}...\".format(clf.__class__.__name__)\n",
    "    start = time.time()\n",
    "    clf.fit(X_train, y_train)\n",
    "    end = time.time()\n",
    "    print \"Done!\\nTraining time (secs): {:.3f}\".format(end - start)\n",
    "\n",
    "# TODO: Choose a model, import it and instantiate an object\n",
    "from sklearn.svm import svc\n",
    "from sklearn.linear_model import Perceptron\n",
    "clf = Perceptron(penalty='l1', alpha=.01, random_state=0) # alpha is for regularization\n",
    "# penalty: None         alpha:        f1score train: 0.256 f1score test: 0.2\n",
    "# penalty: l1           alpha: 0.01   f1score train: 0.583 f1score test: 0.568 // best for perceptron\n",
    "# penalty: 'elasticnet' alpha: 0.0001 f1score train: \n",
    "# try elasticnet, l1, l2 reg alpha=0.0001\n",
    "\n",
    "# Fit model to training data\n",
    "train_classifier(clf, X_train, y_train)  # note: using entire training set here\n",
    "#print clf  # you can inspect the learned model by printing it"
   ]
  },
  {
   "cell_type": "code",
   "execution_count": 119,
   "metadata": {
    "autoscroll": "json-false",
    "collapsed": false,
    "ein.tags": [
     "worksheet-0"
    ]
   },
   "outputs": [
    {
     "name": "stdout",
     "output_type": "stream",
     "text": [
      "Predicting labels using Perceptron...\n",
      "Done!\n",
      "Prediction time (secs): 0.001\n",
      "F1 score for training set: 0.583333333333\n"
     ]
    }
   ],
   "source": [
    "# Predict on training set and compute F1 score\n",
    "from sklearn.metrics import f1_score\n",
    "\n",
    "def predict_labels(clf, features, target):\n",
    "    print \"Predicting labels using {}...\".format(clf.__class__.__name__)\n",
    "    start = time.time()\n",
    "    y_pred = clf.predict(features)\n",
    "    end = time.time()\n",
    "    print \"Done!\\nPrediction time (secs): {:.3f}\".format(end - start)\n",
    "    return f1_score(target.values, y_pred, pos_label='yes')\n",
    "\n",
    "train_f1_score = predict_labels(clf, X_train, y_train)\n",
    "print \"F1 score for training set: {}\".format(train_f1_score)"
   ]
  },
  {
   "cell_type": "code",
   "execution_count": 120,
   "metadata": {
    "autoscroll": "json-false",
    "collapsed": false,
    "ein.tags": [
     "worksheet-0"
    ]
   },
   "outputs": [
    {
     "name": "stdout",
     "output_type": "stream",
     "text": [
      "Predicting labels using Perceptron...\n",
      "Done!\n",
      "Prediction time (secs): 0.000\n",
      "F1 score for test set: 0.568421052632\n"
     ]
    }
   ],
   "source": [
    "# Predict on test data\n",
    "print \"F1 score for test set: {}\".format(predict_labels(clf, X_test, y_test))"
   ]
  },
  {
   "cell_type": "code",
   "execution_count": 125,
   "metadata": {
    "autoscroll": "json-false",
    "collapsed": false,
    "ein.tags": [
     "worksheet-0"
    ]
   },
   "outputs": [
    {
     "name": "stdout",
     "output_type": "stream",
     "text": [
      "------------------------------------------\n",
      "Training set size: 100\n",
      "Training Perceptron...\n",
      "Done!\n",
      "Training time (secs): 0.001\n",
      "Predicting labels using Perceptron...\n",
      "Done!\n",
      "Prediction time (secs): 0.000\n",
      "F1 score for training set: 0.78527607362\n",
      "Predicting labels using Perceptron...\n",
      "Done!\n",
      "Prediction time (secs): 0.000\n",
      "F1 score for test set: 0.781456953642\n",
      "------------------------------------------\n",
      "Training set size: 200\n",
      "Training Perceptron...\n",
      "Done!\n",
      "Training time (secs): 0.001\n",
      "Predicting labels using Perceptron...\n",
      "Done!\n",
      "Prediction time (secs): 0.000\n",
      "F1 score for training set: 0.798798798799\n",
      "Predicting labels using Perceptron...\n",
      "Done!\n",
      "Prediction time (secs): 0.000\n",
      "F1 score for test set: 0.766233766234\n",
      "------------------------------------------\n",
      "Training set size: 300\n",
      "Training Perceptron...\n",
      "Done!\n",
      "Training time (secs): 0.001\n",
      "Predicting labels using Perceptron...\n",
      "Done!\n",
      "Prediction time (secs): 0.000\n",
      "F1 score for training set: 0.583333333333\n",
      "Predicting labels using Perceptron...\n",
      "Done!\n",
      "Prediction time (secs): 0.000\n",
      "F1 score for test set: 0.568421052632\n"
     ]
    }
   ],
   "source": [
    "# Train and predict using different training set sizes\n",
    "def train_predict(clf, X_train, y_train, X_test, y_test):\n",
    "    print \"------------------------------------------\"\n",
    "    print \"Training set size: {}\".format(len(X_train))\n",
    "    train_classifier(clf, X_train, y_train)\n",
    "    print \"F1 score for training set: {}\".format(predict_labels(clf, X_train, y_train))\n",
    "    print \"F1 score for test set: {}\".format(predict_labels(clf, X_test, y_test))\n",
    "\n",
    "# TODO: Run the helper function above for desired subsets of training data\n",
    "# Note: Keep the test set constant\n",
    "for size in (100, 200, 300):\n",
    "    train_predict(clf, X_train[:size], y_train[:size], X_test, y_test)"
   ]
  },
  {
   "cell_type": "code",
   "execution_count": 266,
   "metadata": {
    "autoscroll": "json-false",
    "collapsed": false,
    "ein.tags": [
     "worksheet-0"
    ]
   },
   "outputs": [
    {
     "data": {
      "text/html": [
       "<div>\n",
       "<table border=\"1\" class=\"dataframe\">\n",
       "  <thead>\n",
       "    <tr style=\"text-align: right;\">\n",
       "      <th></th>\n",
       "      <th>clf</th>\n",
       "      <th>description</th>\n",
       "      <th>f1_score_test</th>\n",
       "      <th>f1_score_train</th>\n",
       "      <th>time_predict_test</th>\n",
       "      <th>time_predict_train</th>\n",
       "      <th>time_train</th>\n",
       "    </tr>\n",
       "  </thead>\n",
       "  <tbody>\n",
       "    <tr>\n",
       "      <th>0</th>\n",
       "      <td>Perceptron</td>\n",
       "      <td>set size: 100</td>\n",
       "      <td>0.781457</td>\n",
       "      <td>0.785276</td>\n",
       "      <td>0.000151</td>\n",
       "      <td>0.000164</td>\n",
       "      <td>0.000789</td>\n",
       "    </tr>\n",
       "    <tr>\n",
       "      <th>1</th>\n",
       "      <td>Perceptron</td>\n",
       "      <td>set size: 200</td>\n",
       "      <td>0.766234</td>\n",
       "      <td>0.798799</td>\n",
       "      <td>0.000133</td>\n",
       "      <td>0.000156</td>\n",
       "      <td>0.000954</td>\n",
       "    </tr>\n",
       "    <tr>\n",
       "      <th>2</th>\n",
       "      <td>Perceptron</td>\n",
       "      <td>set size: 300</td>\n",
       "      <td>0.568421</td>\n",
       "      <td>0.583333</td>\n",
       "      <td>0.000219</td>\n",
       "      <td>0.000240</td>\n",
       "      <td>0.001615</td>\n",
       "    </tr>\n",
       "    <tr>\n",
       "      <th>3</th>\n",
       "      <td>SVC</td>\n",
       "      <td>set size: 100</td>\n",
       "      <td>0.753846</td>\n",
       "      <td>0.924242</td>\n",
       "      <td>0.000540</td>\n",
       "      <td>0.000566</td>\n",
       "      <td>0.001754</td>\n",
       "    </tr>\n",
       "    <tr>\n",
       "      <th>4</th>\n",
       "      <td>SVC</td>\n",
       "      <td>set size: 200</td>\n",
       "      <td>0.772727</td>\n",
       "      <td>0.895833</td>\n",
       "      <td>0.000829</td>\n",
       "      <td>0.001886</td>\n",
       "      <td>0.008664</td>\n",
       "    </tr>\n",
       "    <tr>\n",
       "      <th>5</th>\n",
       "      <td>SVC</td>\n",
       "      <td>set size: 300</td>\n",
       "      <td>0.776978</td>\n",
       "      <td>0.887892</td>\n",
       "      <td>0.000988</td>\n",
       "      <td>0.003259</td>\n",
       "      <td>0.011225</td>\n",
       "    </tr>\n",
       "    <tr>\n",
       "      <th>6</th>\n",
       "      <td>KNeighborsClassifier</td>\n",
       "      <td>set size: 100</td>\n",
       "      <td>0.666667</td>\n",
       "      <td>0.823529</td>\n",
       "      <td>0.000866</td>\n",
       "      <td>0.001003</td>\n",
       "      <td>0.000438</td>\n",
       "    </tr>\n",
       "    <tr>\n",
       "      <th>7</th>\n",
       "      <td>KNeighborsClassifier</td>\n",
       "      <td>set size: 200</td>\n",
       "      <td>0.666667</td>\n",
       "      <td>0.861210</td>\n",
       "      <td>0.001261</td>\n",
       "      <td>0.002439</td>\n",
       "      <td>0.000473</td>\n",
       "    </tr>\n",
       "    <tr>\n",
       "      <th>8</th>\n",
       "      <td>KNeighborsClassifier</td>\n",
       "      <td>set size: 300</td>\n",
       "      <td>0.721805</td>\n",
       "      <td>0.886878</td>\n",
       "      <td>0.002206</td>\n",
       "      <td>0.004818</td>\n",
       "      <td>0.000614</td>\n",
       "    </tr>\n",
       "    <tr>\n",
       "      <th>9</th>\n",
       "      <td>RandomForestClassifier</td>\n",
       "      <td>set size: 100</td>\n",
       "      <td>0.730159</td>\n",
       "      <td>0.992126</td>\n",
       "      <td>0.000771</td>\n",
       "      <td>0.000905</td>\n",
       "      <td>0.023050</td>\n",
       "    </tr>\n",
       "    <tr>\n",
       "      <th>10</th>\n",
       "      <td>RandomForestClassifier</td>\n",
       "      <td>set size: 200</td>\n",
       "      <td>0.730159</td>\n",
       "      <td>0.996226</td>\n",
       "      <td>0.000986</td>\n",
       "      <td>0.001511</td>\n",
       "      <td>0.021860</td>\n",
       "    </tr>\n",
       "    <tr>\n",
       "      <th>11</th>\n",
       "      <td>RandomForestClassifier</td>\n",
       "      <td>set size: 300</td>\n",
       "      <td>0.751880</td>\n",
       "      <td>0.992701</td>\n",
       "      <td>0.000903</td>\n",
       "      <td>0.001567</td>\n",
       "      <td>0.018795</td>\n",
       "    </tr>\n",
       "    <tr>\n",
       "      <th>12</th>\n",
       "      <td>GradientBoostingClassifier</td>\n",
       "      <td>set size: 100</td>\n",
       "      <td>0.695652</td>\n",
       "      <td>1.000000</td>\n",
       "      <td>0.000346</td>\n",
       "      <td>0.000527</td>\n",
       "      <td>0.103263</td>\n",
       "    </tr>\n",
       "    <tr>\n",
       "      <th>13</th>\n",
       "      <td>GradientBoostingClassifier</td>\n",
       "      <td>set size: 200</td>\n",
       "      <td>0.742424</td>\n",
       "      <td>1.000000</td>\n",
       "      <td>0.000381</td>\n",
       "      <td>0.000713</td>\n",
       "      <td>0.179376</td>\n",
       "    </tr>\n",
       "    <tr>\n",
       "      <th>14</th>\n",
       "      <td>GradientBoostingClassifier</td>\n",
       "      <td>set size: 300</td>\n",
       "      <td>0.737705</td>\n",
       "      <td>1.000000</td>\n",
       "      <td>0.000837</td>\n",
       "      <td>0.001429</td>\n",
       "      <td>0.304954</td>\n",
       "    </tr>\n",
       "    <tr>\n",
       "      <th>15</th>\n",
       "      <td>AdaBoostClassifier</td>\n",
       "      <td>set size: 100</td>\n",
       "      <td>0.765957</td>\n",
       "      <td>0.805369</td>\n",
       "      <td>0.028378</td>\n",
       "      <td>0.028654</td>\n",
       "      <td>0.157823</td>\n",
       "    </tr>\n",
       "    <tr>\n",
       "      <th>16</th>\n",
       "      <td>AdaBoostClassifier</td>\n",
       "      <td>set size: 200</td>\n",
       "      <td>0.758621</td>\n",
       "      <td>0.811688</td>\n",
       "      <td>0.023634</td>\n",
       "      <td>0.050462</td>\n",
       "      <td>0.164545</td>\n",
       "    </tr>\n",
       "    <tr>\n",
       "      <th>17</th>\n",
       "      <td>AdaBoostClassifier</td>\n",
       "      <td>set size: 300</td>\n",
       "      <td>0.761905</td>\n",
       "      <td>0.819876</td>\n",
       "      <td>0.136949</td>\n",
       "      <td>0.403715</td>\n",
       "      <td>1.134106</td>\n",
       "    </tr>\n",
       "  </tbody>\n",
       "</table>\n",
       "</div>"
      ],
      "text/plain": [
       "                           clf    description  f1_score_test  f1_score_train  \\\n",
       "0                   Perceptron  set size: 100       0.781457        0.785276   \n",
       "1                   Perceptron  set size: 200       0.766234        0.798799   \n",
       "2                   Perceptron  set size: 300       0.568421        0.583333   \n",
       "3                          SVC  set size: 100       0.753846        0.924242   \n",
       "4                          SVC  set size: 200       0.772727        0.895833   \n",
       "5                          SVC  set size: 300       0.776978        0.887892   \n",
       "6         KNeighborsClassifier  set size: 100       0.666667        0.823529   \n",
       "7         KNeighborsClassifier  set size: 200       0.666667        0.861210   \n",
       "8         KNeighborsClassifier  set size: 300       0.721805        0.886878   \n",
       "9       RandomForestClassifier  set size: 100       0.730159        0.992126   \n",
       "10      RandomForestClassifier  set size: 200       0.730159        0.996226   \n",
       "11      RandomForestClassifier  set size: 300       0.751880        0.992701   \n",
       "12  GradientBoostingClassifier  set size: 100       0.695652        1.000000   \n",
       "13  GradientBoostingClassifier  set size: 200       0.742424        1.000000   \n",
       "14  GradientBoostingClassifier  set size: 300       0.737705        1.000000   \n",
       "15          AdaBoostClassifier  set size: 100       0.765957        0.805369   \n",
       "16          AdaBoostClassifier  set size: 200       0.758621        0.811688   \n",
       "17          AdaBoostClassifier  set size: 300       0.761905        0.819876   \n",
       "\n",
       "    time_predict_test  time_predict_train  time_train  \n",
       "0            0.000151            0.000164    0.000789  \n",
       "1            0.000133            0.000156    0.000954  \n",
       "2            0.000219            0.000240    0.001615  \n",
       "3            0.000540            0.000566    0.001754  \n",
       "4            0.000829            0.001886    0.008664  \n",
       "5            0.000988            0.003259    0.011225  \n",
       "6            0.000866            0.001003    0.000438  \n",
       "7            0.001261            0.002439    0.000473  \n",
       "8            0.002206            0.004818    0.000614  \n",
       "9            0.000771            0.000905    0.023050  \n",
       "10           0.000986            0.001511    0.021860  \n",
       "11           0.000903            0.001567    0.018795  \n",
       "12           0.000346            0.000527    0.103263  \n",
       "13           0.000381            0.000713    0.179376  \n",
       "14           0.000837            0.001429    0.304954  \n",
       "15           0.028378            0.028654    0.157823  \n",
       "16           0.023634            0.050462    0.164545  \n",
       "17           0.136949            0.403715    1.134106  "
      ]
     },
     "execution_count": 266,
     "metadata": {},
     "output_type": "execute_result"
    }
   ],
   "source": [
    "# TODO: Train and predict using two other models\n",
    "\n",
    "def my_train_predict(clf, X_train, y_train, X_test, y_test, description):\n",
    "    results = {'description': description}\n",
    "    \n",
    "    results['clf'] = clf.__class__.__name__\n",
    "    \n",
    "    # Train\n",
    "    start = time.time()\n",
    "    clf.fit(X_train, y_train)\n",
    "    end = time.time()\n",
    "    results['time_train'] = end - start\n",
    "\n",
    "    # Predict train\n",
    "    start = time.time()\n",
    "    y_hat = clf.predict(X_train)\n",
    "    end = time.time()\n",
    "    results['f1_score_train'] = f1_score(y_train.values, y_hat, pos_label='yes')\n",
    "    results['time_predict_train'] = end - start\n",
    "\n",
    "    # Predict test\n",
    "    start = time.time()\n",
    "    y_hat = clf.predict(X_test)\n",
    "    end = time.time()\n",
    "    results['f1_score_test'] = f1_score(y_test.values, y_hat, pos_label='yes')\n",
    "    results['time_predict_test'] = end - start\n",
    "\n",
    "    return results\n",
    "\n",
    "def run_clf(clf, results=[]):\n",
    "    for size in (100, 200, 300):\n",
    "\tresults.append(my_train_predict(clf, X_train[:size], y_train[:size], X_test, y_test,\"set size: {}\".format(size)))\n",
    "\n",
    "\n",
    "# Checking 6 models intead of 3\n",
    "results = []\n",
    "\n",
    "# Re-running first clf, Perceptron, just so it's easier to compare using my own function\n",
    "clf_perceptron = Perceptron(penalty='l1', alpha=.01, random_state=0)\n",
    "run_clf(\n",
    "    clf_perceptron,\n",
    "    results=results)\n",
    "\n",
    "# SVC\n",
    "from sklearn.svm import SVC\n",
    "clf_svc = SVC(C=1.0, kernel='poly', degree=2, gamma='auto')\n",
    "run_clf(\n",
    "    clf_svc,\n",
    "    results=results)\n",
    "\n",
    "# K-nearest\n",
    "from sklearn.neighbors import KNeighborsClassifier as KNC\n",
    "clf_knc = KNC(n_neighbors=3, weights='uniform')\n",
    "run_clf(\n",
    "    clf_knc,\n",
    "    results=results)\n",
    "\n",
    "# Random forest\n",
    "from sklearn.ensemble import RandomForestClassifier as RFC\n",
    "clf_rfc = RFC(n_estimators=10, max_depth=None, min_samples_split=2)\n",
    "run_clf(\n",
    "    clf_rfc,\n",
    "    results=results)\n",
    "\n",
    "# GradientBoostingClassifier\n",
    "from sklearn.ensemble import GradientBoostingClassifier as GBC\n",
    "clf_gbc = GBC(loss='deviance', learning_rate=0.1, n_estimators=100, max_depth=None, min_samples_split=2)\n",
    "run_clf(\n",
    "    clf_gbc,\n",
    "    results=results)\n",
    "\n",
    "# AdaBoostClassifier with SVC\n",
    "from sklearn.ensemble import AdaBoostClassifier as ABC\n",
    "clf_abc = ABC(clf_svc, n_estimators=100, learning_rate=1.0, algorithm='SAMME')\n",
    "run_clf(\n",
    "    clf_abc,\n",
    "    results=results)\n",
    "\n",
    "pd.DataFrame(results)"
   ]
  },
  {
   "cell_type": "markdown",
   "metadata": {
    "ein.tags": [
     "worksheet-0"
    ]
   },
   "source": [
    "## 5. Choosing the Best Model\n",
    "\n",
    "- Based on the experiments you performed earlier, in 1-2 paragraphs explain to the board of supervisors what single model you chose as the best model. Which model is generally the most appropriate based on the available data, limited resources, cost, and performance?\n",
    "- In 1-2 paragraphs explain to the board of supervisors in layman's terms how the final model chosen is supposed to work (for example if you chose a Decision Tree or Support Vector Machine, how does it make a prediction).\n",
    "- Fine-tune the model. Use Gridsearch with at least one important parameter tuned and with at least 3 settings. Use the entire training set for this.\n",
    "- What is the model's final F<sub>1</sub> score? .808"
   ]
  },
  {
   "cell_type": "code",
   "execution_count": null,
   "metadata": {
    "autoscroll": "json-false",
    "collapsed": false,
    "ein.tags": [
     "worksheet-0"
    ]
   },
   "outputs": [],
   "source": [
    "# TODO: Fine-tune your model and report the best F1 score"
   ]
  },
  {
   "cell_type": "code",
   "execution_count": 279,
   "metadata": {
    "autoscroll": "json-false",
    "collapsed": false,
    "ein.tags": [
     "worksheet-0"
    ]
   },
   "outputs": [
    {
     "name": "stdout",
     "output_type": "stream",
     "text": [
      "0.794520547945 {'kernel': 'poly', 'C': 1, 'gamma': 'auto', 'degree': 1}\n"
     ]
    }
   ],
   "source": [
    "# Fine-tuning three best methods from above, just be sure, since they were pretty close\n",
    "\n",
    "from sklearn.grid_search import GridSearchCV as GSCV\n",
    "\n",
    "# Must convert target values to binary, cuz grid search doesn't work with string targets, for some reason\n",
    "y_train_binary = y_train.apply(lambda v: v=='yes')\n",
    "y_test_binary = y_test.apply(lambda v: v=='yes')\n",
    "\n",
    "# Fine-tuning SVC\n",
    "best_f1_score = None\n",
    "best_params = None\n",
    "for i in range(25):\n",
    "    #print \"iteration {}\".format(i)\n",
    "    gs_clf = GSCV(\n",
    "\tclf_svc,\n",
    "\t{'kernel':['poly'], 'C':[.95, 1, 1.05], 'degree':[1], 'gamma': ['auto']},\n",
    "\tscoring='f1',\n",
    "\tcv=10,\n",
    "\tn_jobs=4)\n",
    "    gs_clf.fit(X_train, y_train_binary)\n",
    "    _f1_score = f1_score(y_test_binary, gs_clf.predict(X_test))\n",
    "    if best_f1_score is None or best_f1_score < _f1_score:\n",
    "\tbest_f1_score = _f1_score\n",
    "\tbest_params = {\n",
    "\t    'C': gs_clf.best_estimator_.C,\n",
    "\t    'degree': gs_clf.best_estimator_.degree,\n",
    "\t    'kernel': gs_clf.best_estimator_.kernel,\n",
    "        'gamma' : gs_clf.best_estimator_.gamma}\n",
    "    \n",
    "print best_f1_score, best_params\n",
    "\n",
    "#{'kernel':('linear', 'rbf', 'poly'), 'C':[.1, 1, 10], 'degree':[1,2,3]},\n",
    "#0.794520547945 {'kernel': 'poly', 'C': 1, 'degree': 1}\n",
    "\n",
    "#{'kernel':['poly'], 'C':[0.9, 1, 1.1], 'degree':[1,2]},\n",
    "#0.794520547945 {'kernel': 'poly', 'C': 1, 'degree': 1}\n",
    "\n",
    "# {'kernel':('linear', 'rbf', 'poly'), 'C':[.1, 1, 10], 'degree':[1,2,3], 'gamma': ['auto',1,5,10]}\n",
    "# 0.766233766234 {'kernel': 'rbf', 'C': 0.1, 'degree': 1}\n",
    "\n",
    "\n",
    "# {'kernel':['poly', 'rbf', 'linear'], 'C':[.1, 1, 10], 'degree':[1,2,3], 'gamma': ['auto', 1, .1, .01]}\n",
    "# 0.794520547945 {'kernel': 'poly', 'C': 1, 'gamma': 'auto', 'degree': 1}\n",
    "\n",
    "# {'kernel':['poly', 'rbf'], 'C':[.95, 1, 1.05], 'degree':[1], 'gamma': ['auto', .001, .0001]}\n",
    "# 0.789115646259 {'kernel': 'poly', 'C': 0.95, 'gamma': 'auto', 'degree': 1}\n",
    "\n",
    "# {'kernel':['rbf'], 'C':[.95, 1, 1.05], 'degree':[1], 'gamma': [.001, .0001, .00001, .000001, .0000001]}\n",
    "# 0.766233766234 {'kernel': 'rbf', 'C': 0.95, 'gamma': 0.0001, 'degree': 1}\n",
    "\n",
    "# {'kernel':['poly'], 'C':[.95, 1, 1.05], 'degree':[1], 'gamma': ['auto']},\n",
    "# 0.794520547945 {'kernel': 'poly', 'C': 1, 'gamma': 'auto', 'degree': 1}"
   ]
  },
  {
   "cell_type": "code",
   "execution_count": 197,
   "metadata": {
    "autoscroll": "json-false",
    "collapsed": false,
    "ein.tags": [
     "worksheet-0"
    ]
   },
   "outputs": [
    {
     "name": "stdout",
     "output_type": "stream",
     "text": [
      "0.808219178082 {'n_estimators': 15, 'min_samples_split': 3, 'max_depth': 8}\n",
      "iteration 40\n",
      "iteration 30\n",
      "iteration 20\n",
      "iteration 10\n",
      "Each iteration time(secs): 3.553\n",
      "Each iteration time(secs): 3.571\n",
      "iteration 2\n",
      "Each iteration time(secs): 3.533\n",
      "iteration 1\n",
      "iteration 0\n"
     ]
    }
   ],
   "source": [
    "# Fine-tuning random forest\n",
    "\n",
    "best_f1_score = None\n",
    "best_params = None\n",
    "for i in range(50):\n",
    "    if i < 3 or i % 10 == 0:\n",
    "\tprint \"iteration {}\".format(i)\n",
    "\tstart = time.time()\n",
    "    gs_clf = GSCV(\n",
    "\tclf_rfc,\n",
    "\t{'n_estimators': [14, 15, 16, 18], 'max_depth': [4, 5, 6, 7, 8], 'min_samples_split': [2, 3, 4, 5]},\n",
    "\tscoring='f1',\n",
    "\tcv=5,\n",
    "\tn_jobs=4)\n",
    "    gs_clf.fit(X_train, y_train_binary)\n",
    "    _f1_score = f1_score(y_test_binary, gs_clf.predict(X_test))\n",
    "    if best_f1_score is None or best_f1_score < _f1_score:\n",
    "\tbest_f1_score = _f1_score\n",
    "\tbest_params = {\n",
    "\t    'n_estimators': gs_clf.best_estimator_.n_estimators,\n",
    "\t    'max_depth': gs_clf.best_estimator_.max_depth,\n",
    "\t    'min_samples_split': gs_clf.best_estimator_.min_samples_split}\n",
    "    if i < 3:\n",
    "\tend = time.time()    \n",
    "\tprint \"Each iteration time(secs): {:.3f}\".format(end - start)\n",
    "\t\n",
    "print best_f1_score, best_params\n",
    "\n",
    "# i in range(10)\n",
    "# {'n_estimators': [10, 15, 20], 'max_depth': [None, 2, 4, 8, 16], 'min_samples_split': [2, 4, 8, 16]}\n",
    "# 0.802721088435 {'n_estimators': 15, 'min_samples_split': 4, 'max_depth': 4}\n"
   ]
  },
  {
   "cell_type": "code",
   "execution_count": 283,
   "metadata": {
    "collapsed": false
   },
   "outputs": [
    {
     "name": "stdout",
     "output_type": "stream",
     "text": [
      "0.766233766234 {'n_estimators': 5, 'learning_rate': 0.0001}\n"
     ]
    }
   ],
   "source": [
    "# Fine tuning AdaBoostClassifier with SVC\n",
    "# Fine-tuning SVC\n",
    "\n",
    "# Create svc with optimized params\n",
    "svc2 = SVC(C=1.0, kernel='poly', degree=1, gamma='auto', probability=True)\n",
    "abc2 = ABC(svc2, algorithm='SAMME')\n",
    "\n",
    "\n",
    "best_f1_score = None\n",
    "best_params = None\n",
    "for i in range(5):\n",
    "    #print \"iteration {}\".format(i)\n",
    "    gs_clf = GSCV(\n",
    "        abc2,\n",
    "        {'n_estimators': [5, 50, 100], 'learning_rate': [.0001, .001, .01]},\n",
    "        scoring='f1',\n",
    "        cv=5,\n",
    "        n_jobs=4)\n",
    "    gs_clf.fit(X_train, y_train_binary)\n",
    "    _f1_score = f1_score(y_test_binary, gs_clf.predict(X_test))\n",
    "    if best_f1_score is None or best_f1_score < _f1_score:\n",
    "        best_f1_score = _f1_score\n",
    "        best_params = {\n",
    "            'n_estimators': gs_clf.best_estimator_.n_estimators,\n",
    "            'learning_rate': gs_clf.best_estimator_.learning_rate}\n",
    "    \n",
    "print best_f1_score, best_params\n",
    "\n",
    "# {'n_estimators': [5, 10, 50, 100], 'learning_rate': [.001, .1, 1.0]}\n",
    "# 0.766233766234 {'n_estimators': 5, 'learning_rate': 0.001}\n",
    "\n",
    "# {'n_estimators': [5, 50, 100], 'learning_rate': [.0001, .001, .01]},\n",
    "# 0.766233766234 {'n_estimators': 5, 'learning_rate': 0.0001}\n",
    "\n",
    "# Gridsearchcv just returns the same results no matter what params i put in"
   ]
  },
  {
   "cell_type": "code",
   "execution_count": null,
   "metadata": {
    "collapsed": true
   },
   "outputs": [],
   "source": []
  }
 ],
 "metadata": {
  "kernelspec": {
   "display_name": "Python 2",
   "language": "python",
   "name": "python2"
  },
  "language_info": {
   "codemirror_mode": {
    "name": "ipython",
    "version": 2
   },
   "file_extension": ".py",
   "mimetype": "text/x-python",
   "name": "python",
   "nbconvert_exporter": "python",
   "pygments_lexer": "ipython2",
   "version": "2.7.10"
  },
  "name": "student_intervention.ipynb"
 },
 "nbformat": 4,
 "nbformat_minor": 0
}
