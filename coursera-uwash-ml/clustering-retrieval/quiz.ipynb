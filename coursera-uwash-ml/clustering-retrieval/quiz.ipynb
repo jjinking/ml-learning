{
 "cells": [
  {
   "cell_type": "raw",
   "metadata": {},
   "source": [
    "x=[# the,# a,# quick,# brown,# fox,# jumps,# over,# lazy,# dog,# outpaces]"
   ]
  },
  {
   "cell_type": "code",
   "execution_count": 29,
   "metadata": {
    "collapsed": false
   },
   "outputs": [],
   "source": [
    "def process_sentence(x):\n",
    "    return [w.strip().lower() for w in x.split()]\n",
    "\n",
    "from collections import Counter\n",
    "def get_counts_vector(x):\n",
    "    c = Counter(process_sentence(x))\n",
    "    return [c[k] for k in ['the','a','quick','brown','fox','jumps','over','lazy','dog','outpaces']]\n",
    "\n",
    "import numpy as np\n",
    "def euclidean_distance(v, w):\n",
    "    a = np.array(get_counts_vector(v))\n",
    "    b = np.array(get_counts_vector(w))\n",
    "    return numpy.linalg.norm(a-b)\n",
    "\n",
    "from scipy import spatial\n",
    "def cosine_distance(v, w):\n",
    "    a = np.array(get_counts_vector(v))\n",
    "    b = np.array(get_counts_vector(w))\n",
    "    return spatial.distance.cosine(a, b)"
   ]
  },
  {
   "cell_type": "code",
   "execution_count": null,
   "metadata": {
    "collapsed": true
   },
   "outputs": [],
   "source": [
    "x1 = \"The quick brown fox jumps over the lazy dog\"\n",
    "x2 = \"A quick brown dog outpaces a quick fox\""
   ]
  },
  {
   "cell_type": "code",
   "execution_count": 30,
   "metadata": {
    "collapsed": false
   },
   "outputs": [
    {
     "data": {
      "text/plain": [
       "3.6055512754639891"
      ]
     },
     "execution_count": 30,
     "metadata": {},
     "output_type": "execute_result"
    }
   ],
   "source": [
    "euclidean_distance(x1, x2)"
   ]
  },
  {
   "cell_type": "code",
   "execution_count": 31,
   "metadata": {
    "collapsed": false
   },
   "outputs": [
    {
     "data": {
      "text/plain": [
       "0.5648058601107554"
      ]
     },
     "execution_count": 31,
     "metadata": {},
     "output_type": "execute_result"
    }
   ],
   "source": [
    "cosine_distance(x1, x2)"
   ]
  },
  {
   "cell_type": "code",
   "execution_count": null,
   "metadata": {
    "collapsed": true
   },
   "outputs": [],
   "source": []
  }
 ],
 "metadata": {
  "kernelspec": {
   "display_name": "Python 2",
   "language": "python",
   "name": "python2"
  },
  "language_info": {
   "codemirror_mode": {
    "name": "ipython",
    "version": 2
   },
   "file_extension": ".py",
   "mimetype": "text/x-python",
   "name": "python",
   "nbconvert_exporter": "python",
   "pygments_lexer": "ipython2",
   "version": "2.7.10"
  }
 },
 "nbformat": 4,
 "nbformat_minor": 0
}
