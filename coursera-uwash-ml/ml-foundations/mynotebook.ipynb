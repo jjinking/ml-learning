{
 "cells": [
  {
   "cell_type": "code",
   "execution_count": 1,
   "metadata": {
    "collapsed": true
   },
   "outputs": [],
   "source": [
    "import numpy as np"
   ]
  },
  {
   "cell_type": "code",
   "execution_count": 2,
   "metadata": {
    "collapsed": true
   },
   "outputs": [],
   "source": [
    "X = np.matrix([\n",
    "    [0, 0],\n",
    "    [0, 1],\n",
    "    [1, 0],\n",
    "    [1, 1],\n",
    "])\n",
    "\n",
    "def nnf(W1, B1, W2, B2, thresh=0):\n",
    "    # Layer 1\n",
    "    Z = X * W1 + B1\n",
    "    \n",
    "    # Transfer function for z\n",
    "    for i in range(Z.shape[0]):\n",
    "        for j in range(Z.shape[1]):\n",
    "            Z[i,j] = 1 if Z[i,j] > thresh else 0\n",
    "            \n",
    "    # Layer 2\n",
    "    Y = Z * W2 + B2\n",
    "    \n",
    "    # Transfer function for y\n",
    "    for i in range(Y.shape[0]):\n",
    "        for j in range(Y.shape[1]):\n",
    "            Y[i,j] = 1 if Y[i,j] > 0 else 0\n",
    "    \n",
    "    return Y"
   ]
  },
  {
   "cell_type": "code",
   "execution_count": 3,
   "metadata": {
    "collapsed": false
   },
   "outputs": [],
   "source": [
    "# First\n",
    "W1 = np.matrix([\n",
    "        [-1.0, -1.0],\n",
    "        [ 1.0,  1.0],\n",
    "    ])\n",
    "B1 = np.matrix([\n",
    "        [-0.5,  1.5],\n",
    "        [-0.5,  1.5],\n",
    "        [-0.5,  1.5],\n",
    "        [-0.5,  1.5],\n",
    "    ])\n",
    "\n",
    "W2 = np.matrix([\n",
    "        [1, 1],\n",
    "    ]).transpose()\n",
    "\n",
    "B2 = np.matrix([\n",
    "        -0.5, -0.5, -0.5, -0.5\n",
    "    ]).transpose()"
   ]
  },
  {
   "cell_type": "code",
   "execution_count": 8,
   "metadata": {
    "collapsed": false
   },
   "outputs": [
    {
     "data": {
      "text/plain": [
       "matrix([[ 1.],\n",
       "        [ 1.],\n",
       "        [ 1.],\n",
       "        [ 1.]])"
      ]
     },
     "execution_count": 8,
     "metadata": {},
     "output_type": "execute_result"
    }
   ],
   "source": [
    "nnf(W1, B1, W2, B2, thresh=0)"
   ]
  },
  {
   "cell_type": "code",
   "execution_count": 7,
   "metadata": {
    "collapsed": false
   },
   "outputs": [
    {
     "data": {
      "text/plain": [
       "matrix([[ 1.],\n",
       "        [ 1.],\n",
       "        [ 0.],\n",
       "        [ 1.]])"
      ]
     },
     "execution_count": 7,
     "metadata": {},
     "output_type": "execute_result"
    }
   ],
   "source": [
    "nnf(W1, B1, W2, B2, thresh=1)"
   ]
  },
  {
   "cell_type": "code",
   "execution_count": 9,
   "metadata": {
    "collapsed": true
   },
   "outputs": [],
   "source": [
    "# Second\n",
    "W1 = np.matrix([\n",
    "        [ 1.0, -1.0],\n",
    "        [ 1.0, -1.0],\n",
    "    ])\n",
    "B1 = np.matrix([\n",
    "        [-1.5,  0.5],\n",
    "        [-1.5,  0.5],\n",
    "        [-1.5,  0.5],\n",
    "        [-1.5,  0.5],\n",
    "    ])\n",
    "\n",
    "W2 = np.matrix([\n",
    "        [1, 1],\n",
    "    ]).transpose()\n",
    "\n",
    "B2 = np.matrix([\n",
    "        -1.5, -1.5, -1.5, -1.5\n",
    "    ]).transpose()"
   ]
  },
  {
   "cell_type": "code",
   "execution_count": 10,
   "metadata": {
    "collapsed": false
   },
   "outputs": [
    {
     "data": {
      "text/plain": [
       "matrix([[ 0.],\n",
       "        [ 0.],\n",
       "        [ 0.],\n",
       "        [ 0.]])"
      ]
     },
     "execution_count": 10,
     "metadata": {},
     "output_type": "execute_result"
    }
   ],
   "source": [
    "nnf(W1, B1, W2, B2, thresh=0)"
   ]
  },
  {
   "cell_type": "code",
   "execution_count": 11,
   "metadata": {
    "collapsed": false
   },
   "outputs": [
    {
     "data": {
      "text/plain": [
       "matrix([[ 0.],\n",
       "        [ 0.],\n",
       "        [ 0.],\n",
       "        [ 0.]])"
      ]
     },
     "execution_count": 11,
     "metadata": {},
     "output_type": "execute_result"
    }
   ],
   "source": [
    "nnf(W1, B1, W2, B2, thresh=1)"
   ]
  },
  {
   "cell_type": "code",
   "execution_count": 12,
   "metadata": {
    "collapsed": true
   },
   "outputs": [],
   "source": [
    "# Third\n",
    "W1 = np.matrix([\n",
    "        [ 1.0, -1.0],\n",
    "        [ 1.0, -1.0],\n",
    "    ])\n",
    "B1 = np.matrix([\n",
    "        [-1.5,  1.5],\n",
    "        [-1.5,  1.5],\n",
    "        [-1.5,  1.5],\n",
    "        [-1.5,  1.5],\n",
    "    ])\n",
    "\n",
    "W2 = np.matrix([\n",
    "        [1, 1],\n",
    "    ]).transpose()\n",
    "\n",
    "B2 = np.matrix([\n",
    "        -0.5, -0.5, -0.5, -0.5\n",
    "    ]).transpose()"
   ]
  },
  {
   "cell_type": "code",
   "execution_count": 13,
   "metadata": {
    "collapsed": false
   },
   "outputs": [
    {
     "data": {
      "text/plain": [
       "matrix([[ 1.],\n",
       "        [ 1.],\n",
       "        [ 1.],\n",
       "        [ 1.]])"
      ]
     },
     "execution_count": 13,
     "metadata": {},
     "output_type": "execute_result"
    }
   ],
   "source": [
    "nnf(W1, B1, W2, B2, thresh=0)"
   ]
  },
  {
   "cell_type": "code",
   "execution_count": 14,
   "metadata": {
    "collapsed": false
   },
   "outputs": [
    {
     "data": {
      "text/plain": [
       "matrix([[ 1.],\n",
       "        [ 0.],\n",
       "        [ 0.],\n",
       "        [ 0.]])"
      ]
     },
     "execution_count": 14,
     "metadata": {},
     "output_type": "execute_result"
    }
   ],
   "source": [
    "nnf(W1, B1, W2, B2, thresh=1)"
   ]
  },
  {
   "cell_type": "code",
   "execution_count": 15,
   "metadata": {
    "collapsed": true
   },
   "outputs": [],
   "source": [
    "# Fourth\n",
    "W1 = np.matrix([\n",
    "        [ 1.0, -1.0],\n",
    "        [ 1.0, -1.0],\n",
    "    ])\n",
    "B1 = np.matrix([\n",
    "        [-1.5,  0.5],\n",
    "        [-1.5,  0.5],\n",
    "        [-1.5,  0.5],\n",
    "        [-1.5,  0.5],\n",
    "    ])\n",
    "\n",
    "W2 = np.matrix([\n",
    "        [1, 1],\n",
    "    ]).transpose()\n",
    "\n",
    "B2 = np.matrix([\n",
    "        -0.5, -0.5, -0.5, -0.5\n",
    "    ]).transpose()"
   ]
  },
  {
   "cell_type": "code",
   "execution_count": 16,
   "metadata": {
    "collapsed": false
   },
   "outputs": [
    {
     "data": {
      "text/plain": [
       "matrix([[ 1.],\n",
       "        [ 0.],\n",
       "        [ 0.],\n",
       "        [ 1.]])"
      ]
     },
     "execution_count": 16,
     "metadata": {},
     "output_type": "execute_result"
    }
   ],
   "source": [
    "nnf(W1, B1, W2, B2, thresh=0)"
   ]
  },
  {
   "cell_type": "code",
   "execution_count": 17,
   "metadata": {
    "collapsed": false
   },
   "outputs": [
    {
     "data": {
      "text/plain": [
       "matrix([[ 0.],\n",
       "        [ 0.],\n",
       "        [ 0.],\n",
       "        [ 0.]])"
      ]
     },
     "execution_count": 17,
     "metadata": {},
     "output_type": "execute_result"
    }
   ],
   "source": [
    "nnf(W1, B1, W2, B2, thresh=1)"
   ]
  },
  {
   "cell_type": "code",
   "execution_count": 18,
   "metadata": {
    "collapsed": true
   },
   "outputs": [],
   "source": [
    "# Fifth\n",
    "W1 = np.matrix([\n",
    "        [ 1.0, -1.0],\n",
    "        [ 1.0, -1.0],\n",
    "    ])\n",
    "B1 = np.matrix([\n",
    "        [-1.5,  1.5],\n",
    "        [-1.5,  1.5],\n",
    "        [-1.5,  1.5],\n",
    "        [-1.5,  1.5],\n",
    "    ])\n",
    "\n",
    "W2 = np.matrix([\n",
    "        [1, 1],\n",
    "    ]).transpose()\n",
    "\n",
    "B2 = np.matrix([\n",
    "        -1.5, -1.5, -1.5, -1.5\n",
    "    ]).transpose()"
   ]
  },
  {
   "cell_type": "code",
   "execution_count": 19,
   "metadata": {
    "collapsed": false
   },
   "outputs": [
    {
     "data": {
      "text/plain": [
       "matrix([[ 0.],\n",
       "        [ 0.],\n",
       "        [ 0.],\n",
       "        [ 0.]])"
      ]
     },
     "execution_count": 19,
     "metadata": {},
     "output_type": "execute_result"
    }
   ],
   "source": [
    "nnf(W1, B1, W2, B2, thresh=0)"
   ]
  },
  {
   "cell_type": "code",
   "execution_count": 20,
   "metadata": {
    "collapsed": false
   },
   "outputs": [
    {
     "data": {
      "text/plain": [
       "matrix([[ 0.],\n",
       "        [ 0.],\n",
       "        [ 0.],\n",
       "        [ 0.]])"
      ]
     },
     "execution_count": 20,
     "metadata": {},
     "output_type": "execute_result"
    }
   ],
   "source": [
    "nnf(W1, B1, W2, B2, thresh=1)"
   ]
  },
  {
   "cell_type": "code",
   "execution_count": null,
   "metadata": {
    "collapsed": true
   },
   "outputs": [],
   "source": []
  }
 ],
 "metadata": {
  "kernelspec": {
   "display_name": "Python 2",
   "language": "python",
   "name": "python2"
  },
  "language_info": {
   "codemirror_mode": {
    "name": "ipython",
    "version": 2
   },
   "file_extension": ".py",
   "mimetype": "text/x-python",
   "name": "python",
   "nbconvert_exporter": "python",
   "pygments_lexer": "ipython2",
   "version": "2.7.10"
  }
 },
 "nbformat": 4,
 "nbformat_minor": 0
}
