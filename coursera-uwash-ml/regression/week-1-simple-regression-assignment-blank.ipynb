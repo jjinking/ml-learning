{
 "cells": [
  {
   "cell_type": "markdown",
   "metadata": {},
   "source": [
    "# Regression Week 1: Simple Linear Regression"
   ]
  },
  {
   "cell_type": "markdown",
   "metadata": {},
   "source": [
    "In this notebook we will use data on house sales in King County to predict house prices using simple (one input) linear regression. You will:\n",
    "* Use graphlab SArray and SFrame functions to compute important summary statistics\n",
    "* Write a function to compute the Simple Linear Regression weights using the closed form solution\n",
    "* Write a function to make predictions of the output given the input feature\n",
    "* Turn the regression around to predict the input given the output\n",
    "* Compare two different models for predicting house prices\n",
    "\n",
    "In this notebook you will be provided with some already complete code as well as some code that you should complete yourself in order to answer quiz questions. The code we provide to complte is optional and is there to assist you with solving the problems but feel free to ignore the helper code and write your own."
   ]
  },
  {
   "cell_type": "markdown",
   "metadata": {},
   "source": [
    "# Fire up graphlab create"
   ]
  },
  {
   "cell_type": "code",
   "execution_count": 1,
   "metadata": {
    "collapsed": false
   },
   "outputs": [],
   "source": [
    "import graphlab"
   ]
  },
  {
   "cell_type": "markdown",
   "metadata": {},
   "source": [
    "# Load house sales data\n",
    "\n",
    "Dataset is from house sales in King County, the region where the city of Seattle, WA is located."
   ]
  },
  {
   "cell_type": "code",
   "execution_count": 2,
   "metadata": {
    "collapsed": false
   },
   "outputs": [
    {
     "name": "stderr",
     "output_type": "stream",
     "text": [
      "[INFO] \u001b[1;32m1449037197 : INFO:     (initialize_globals_from_environment:282): Setting configuration variable GRAPHLAB_FILEIO_ALTERNATIVE_SSL_CERT_FILE to /Users/hqmac028/.virtualenvs/dato-env/lib/python2.7/site-packages/certifi/cacert.pem\n",
      "\u001b[0m\u001b[1;32m1449037197 : INFO:     (initialize_globals_from_environment:282): Setting configuration variable GRAPHLAB_FILEIO_ALTERNATIVE_SSL_CERT_DIR to \n",
      "\u001b[0mThis non-commercial license of GraphLab Create is assigned to jjinking@gmail.com and will expire on October 18, 2016. For commercial licensing options, visit https://dato.com/buy/.\n",
      "\n",
      "[INFO] Start server at: ipc:///tmp/graphlab_server-87544 - Server binary: /Users/hqmac028/.virtualenvs/dato-env/lib/python2.7/site-packages/graphlab/unity_server - Server log: /tmp/graphlab_server_1449037197.log\n",
      "[INFO] GraphLab Server Version: 1.7.1\n"
     ]
    }
   ],
   "source": [
    "sales = graphlab.SFrame('kc_house_data.gl/')"
   ]
  },
  {
   "cell_type": "code",
   "execution_count": 29,
   "metadata": {
    "collapsed": false
   },
   "outputs": [
    {
     "data": {
      "application/javascript": [
       "$(\"head\").append($(\"<link/>\").attr({\n",
       "  rel:  \"stylesheet\",\n",
       "  type: \"text/css\",\n",
       "  href: \"//cdnjs.cloudflare.com/ajax/libs/font-awesome/4.1.0/css/font-awesome.min.css\"\n",
       "}));\n",
       "$(\"head\").append($(\"<link/>\").attr({\n",
       "  rel:  \"stylesheet\",\n",
       "  type: \"text/css\",\n",
       "  href: \"//dato.com/files/canvas/1.7.1/css/canvas.css\"\n",
       "}));\n",
       "\n",
       "            (function(){\n",
       "\n",
       "                var e = null;\n",
       "                if (typeof element == 'undefined') {\n",
       "                    var scripts = document.getElementsByTagName('script');\n",
       "                    var thisScriptTag = scripts[scripts.length-1];\n",
       "                    var parentDiv = thisScriptTag.parentNode;\n",
       "                    e = document.createElement('div');\n",
       "                    parentDiv.appendChild(e);\n",
       "                } else {\n",
       "                    e = element[0];\n",
       "                }\n",
       "\n",
       "                if (typeof requirejs !== 'undefined') {\n",
       "                    // disable load timeout; ipython_app.js is large and can take a while to load.\n",
       "                    requirejs.config({waitSeconds: 0});\n",
       "                }\n",
       "\n",
       "                require(['//dato.com/files/canvas/1.7.1/js/ipython_app.js'], function(IPythonApp){\n",
       "                    var app = new IPythonApp();\n",
       "                    app.attachView('sframe','Plots', {\"selected_variable\": {\"name\": [\"sales\"], \"descriptives\": {\"rows\": 21613, \"columns\": 21}, \"view_component\": \"Plots\", \"view_file\": \"sframe\", \"view_params\": {\"y\": \"price\", \"x\": \"sqft_living\", \"columns\": [\"id\", \"date\", \"price\", \"bedrooms\", \"bathrooms\", \"sqft_living\", \"sqft_lot\", \"floors\", \"waterfront\", \"view\", \"condition\", \"grade\", \"sqft_above\", \"sqft_basement\", \"yr_built\", \"yr_renovated\", \"zipcode\", \"lat\", \"long\", \"sqft_living15\", \"sqft_lot15\"], \"view\": \"Scatter Plot\"}, \"view_components\": [\"Summary\", \"Table\", \"Bar Chart\", \"BoxWhisker Plot\", \"Line Chart\", \"Scatter Plot\", \"Heat Map\", \"Plots\"], \"type\": \"SFrame\", \"columns\": [{\"dtype\": \"str\", \"name\": \"id\"}, {\"dtype\": \"datetime\", \"name\": \"date\"}, {\"dtype\": \"float\", \"name\": \"price\"}, {\"dtype\": \"float\", \"name\": \"bedrooms\"}, {\"dtype\": \"float\", \"name\": \"bathrooms\"}, {\"dtype\": \"float\", \"name\": \"sqft_living\"}, {\"dtype\": \"int\", \"name\": \"sqft_lot\"}, {\"dtype\": \"str\", \"name\": \"floors\"}, {\"dtype\": \"int\", \"name\": \"waterfront\"}, {\"dtype\": \"int\", \"name\": \"view\"}, {\"dtype\": \"int\", \"name\": \"condition\"}, {\"dtype\": \"int\", \"name\": \"grade\"}, {\"dtype\": \"int\", \"name\": \"sqft_above\"}, {\"dtype\": \"int\", \"name\": \"sqft_basement\"}, {\"dtype\": \"int\", \"name\": \"yr_built\"}, {\"dtype\": \"int\", \"name\": \"yr_renovated\"}, {\"dtype\": \"str\", \"name\": \"zipcode\"}, {\"dtype\": \"float\", \"name\": \"lat\"}, {\"dtype\": \"float\", \"name\": \"long\"}, {\"dtype\": \"float\", \"name\": \"sqft_living15\"}, {\"dtype\": \"float\", \"name\": \"sqft_lot15\"}], \"column_identifiers\": [\"bathrooms\", \"sqft_living15\", \"sqft_above\", \"grade\", \"yr_built\", \"price\", \"bedrooms\", \"zipcode\", \"long\", \"id\", \"sqft_lot15\", \"sqft_living\", \"floors\", \"sqft_lot\", \"date\", \"waterfront\", \"sqft_basement\", \"yr_renovated\", \"lat\", \"condition\", \"view\"]}, \"complete\": 1, \"ipython\": true, \"progress\": 1.0, \"data\": [[2040.0, 1272500.0], [3620.0, 680000.0], [2050.0, 535000.0], [2600.0, 316000.0], [1950.0, 274000.0], [930.0, 200000.0], [1750.0, 585000.0], [770.0, 407500.0], [4610.0, 1648000.0], [2410.0, 379000.0], [2770.0, 438800.0], [2160.0, 1010000.0], [1440.0, 490000.0], [1370.0, 400000.0], [1320.0, 660000.0], [1820.0, 700000.0], [900.0, 329000.0], [1600.0, 485000.0], [1720.0, 508800.0], [760.0, 265000.0], [2710.0, 1430000.0], [3820.0, 1250000.0], [4070.0, 845000.0], [2530.0, 650000.0], [2070.0, 465000.0], [3080.0, 775000.0], [1250.0, 440000.0], [1020.0, 399950.0], [1360.0, 550000.0], [1200.0, 219950.0], [3560.0, 1070000.0], [1770.0, 675000.0], [2940.0, 435000.0], [1646.0, 307500.0], [950.0, 365000.0], [2280.0, 415000.0], [1610.0, 395000.0], [4000.0, 802945.0], [3280.0, 1075000.0], [1320.0, 259000.0], [2570.0, 625000.0], [2890.0, 775000.0], [2300.0, 452000.0], [3361.0, 511000.0], [2710.0, 623000.0], [2800.0, 863000.0], [1800.0, 285000.0], [2390.0, 660000.0], [1650.0, 410000.0], [3030.0, 902000.0], [1120.0, 401000.0], [2690.0, 359950.0], [1430.0, 275000.0], [1720.0, 772500.0], [1620.0, 290000.0], [1930.0, 280000.0], [3320.0, 852600.0], [1040.0, 290000.0], [2860.0, 300000.0], [1650.0, 402500.0], [2490.0, 533500.0], [2000.0, 334000.0], [1740.0, 800000.0], [1390.0, 400000.0], [1440.0, 500000.0], [2770.0, 317625.0], [2310.0, 469950.0], [1530.0, 199950.0], [2251.0, 305000.0], [630.0, 396000.0], [5020.0, 3600000.0], [2430.0, 990000.0], [1910.0, 609850.0], [1590.0, 575000.0], [1090.0, 285000.0], [3430.0, 832500.0], [790.0, 425000.0], [840.0, 203000.0], [1410.0, 410000.0], [2000.0, 374000.0], [1730.0, 205000.0], [1900.0, 360000.0], [1940.0, 335000.0], [1190.0, 277500.0], [1450.0, 525000.0], [1960.0, 425000.0], [3690.0, 1115000.0], [1250.0, 308000.0], [2200.0, 365000.0], [1690.0, 612500.0], [2170.0, 750500.0], [3840.0, 556000.0], [2440.0, 565000.0], [2970.0, 599000.0], [580.0, 90000.0], [1400.0, 343000.0], [1680.0, 935000.0], [920.0, 600000.0], [1340.0, 425000.0], [3160.0, 589900.0], [2200.0, 572000.0], [2340.0, 949950.0], [1150.0, 305000.0], [2510.0, 994000.0], [2440.0, 425000.0], [1930.0, 581000.0], [980.0, 447000.0], [2940.0, 845000.0], [5960.0, 1140000.0], [3040.0, 725000.0], [1900.0, 275000.0], [1250.0, 318000.0], [950.0, 515000.0], [2080.0, 329950.0], [3000.0, 355000.0], [3070.0, 350000.0], [2160.0, 277000.0], [1210.0, 710000.0], [1310.0, 150000.0], [1790.0, 570000.0], [1480.0, 250000.0], [1450.0, 245000.0], [1830.0, 270000.0], [2080.0, 825000.0], [1500.0, 605000.0], [1400.0, 340000.0], [3140.0, 529888.0], [1100.0, 416500.0], [2970.0, 549995.0], [1390.0, 370000.0], [1670.0, 239950.0], [3560.0, 435000.0], [2150.0, 428040.0], [2750.0, 525000.0], [2180.0, 472000.0], [1980.0, 307700.0], [2680.0, 1242500.0], [1490.0, 550000.0], [1290.0, 215000.0], [1690.0, 705000.0], [1110.0, 665000.0], [2010.0, 625000.0], [2560.0, 1175000.0], [3750.0, 910000.0], [2300.0, 650000.0], [4130.0, 1070000.0], [2400.0, 389000.0], [2420.0, 430000.0], [1150.0, 221000.0], [1440.0, 292500.0], [1900.0, 485000.0], [1110.0, 560000.0], [1760.0, 270000.0], [1300.0, 219950.0], [980.0, 390000.0], [1900.0, 675000.0], [3090.0, 891500.0], [2320.0, 475000.0], [1510.0, 599950.0], [2780.0, 825500.0], [1350.0, 498800.0], [1800.0, 380000.0], [2044.0, 1000000.0], [2840.0, 685000.0], [1680.0, 359000.0], [1122.0, 185000.0], [2060.0, 213500.0], [2590.0, 503000.0], [2390.0, 519500.0], [1670.0, 555565.0], [2840.0, 650000.0], [2540.0, 300000.0], [2250.0, 342000.0], [1240.0, 340000.0], [2070.0, 364950.0], [2780.0, 830000.0], [4645.0, 1595000.0], [2180.0, 506000.0], [1150.0, 464500.0], [2910.0, 945000.0], [2410.0, 614905.0], [700.0, 399000.0], [1390.0, 185000.0], [2800.0, 439000.0], [2440.0, 700000.0], [2500.0, 950000.0], [1880.0, 340000.0], [860.0, 345000.0], [1370.0, 446000.0], [2520.0, 765000.0], [2100.0, 505000.0], [2000.0, 267000.0], [1440.0, 430000.0], [6110.0, 1320000.0], [1550.0, 245000.0], [2420.0, 570000.0], [1390.0, 350000.0], [1610.0, 725000.0], [2950.0, 424900.0], [940.0, 185900.0], [1610.0, 292000.0], [2560.0, 499000.0], [2730.0, 505000.0], [1300.0, 226500.0], [1260.0, 245000.0], [800.0, 439000.0], [1770.0, 455000.0], [4360.0, 1789950.0], [2260.0, 600000.0], [1510.0, 309950.0], [1780.0, 395000.0], [930.0, 281000.0], [960.0, 244000.0], [3150.0, 450000.0], [1650.0, 272000.0], [2970.0, 775950.0], [3000.0, 515000.0], [2810.0, 487500.0], [1900.0, 706000.0], [2920.0, 562500.0], [2475.0, 319900.0], [2320.0, 248000.0], [1160.0, 389000.0], [5640.0, 1999950.0], [3710.0, 2537000.0], [3140.0, 775000.0], [1510.0, 479950.0], [1200.0, 402000.0], [1150.0, 410500.0], [2280.0, 835000.0], [1090.0, 149900.0], [1880.0, 453000.0], [1150.0, 489000.0], [1640.0, 500000.0], [2480.0, 475000.0], [1900.0, 536000.0], [2300.0, 395000.0], [800.0, 265000.0], [3070.0, 550000.0], [7390.0, 5300000.0], [2140.0, 571000.0], [2030.0, 359500.0], [1430.0, 455000.0], [2483.0, 331000.0], [1430.0, 224500.0], [1440.0, 560000.0], [1600.0, 393500.0], [1170.0, 400000.0], [970.0, 261000.0], [1450.0, 240000.0], [3920.0, 616200.0], [1560.0, 335000.0], [1776.0, 620000.0], [2690.0, 721000.0], [1730.0, 245000.0], [1550.0, 300000.0], [1500.0, 525000.0], [3270.0, 485000.0], [2310.0, 700000.0], [2460.0, 693000.0], [1660.0, 209950.0], [2100.0, 480000.0], [2630.0, 585000.0], [1080.0, 525000.0], [1460.0, 427005.0], [3190.0, 780000.0], [3720.0, 1450000.0], [1070.0, 415000.0], [3150.0, 370000.0], [1620.0, 415000.0], [2110.0, 746000.0], [1680.0, 466000.0], [2630.0, 583000.0], [1670.0, 678000.0], [2670.0, 575000.0], [1910.0, 498500.0], [2180.0, 657000.0], [1200.0, 412000.0], [2690.0, 563750.0], [1460.0, 320000.0], [2830.0, 673000.0], [1160.0, 305000.0], [1240.0, 520000.0], [2320.0, 630000.0], [1250.0, 459500.0], [2750.0, 840000.0], [910.0, 570000.0], [2880.0, 362000.0], [2080.0, 254000.0], [4490.0, 1800000.0], [1010.0, 315000.0], [2950.0, 630000.0], [2410.0, 475000.0], [2630.0, 589500.0], [1960.0, 320000.0], [2390.0, 360000.0], [2020.0, 495000.0], [2650.0, 446500.0], [1110.0, 343000.0], [870.0, 166000.0], [1840.0, 540000.0], [1040.0, 299000.0], [990.0, 490000.0], [2750.0, 795000.0], [1790.0, 450000.0], [1230.0, 252750.0], [1360.0, 352500.0], [1830.0, 400000.0], [1010.0, 550700.0], [2770.0, 678000.0], [1720.0, 430000.0], [1070.0, 265000.0], [1690.0, 622000.0], [1350.0, 237500.0], [3420.0, 657044.0], [4600.0, 805000.0], [2440.0, 518000.0], [2434.0, 285000.0], [1310.0, 290000.0], [1530.0, 425000.0], [1810.0, 162000.0], [2990.0, 500000.0], [1680.0, 306000.0], [4780.0, 2575000.0], [2320.0, 779000.0], [2010.0, 775000.0], [2880.0, 751000.0], [1600.0, 285000.0], [2360.0, 590000.0], [1370.0, 375000.0], [2000.0, 519000.0], [2010.0, 463000.0], [970.0, 315000.0], [1080.0, 874950.0], [1120.0, 360000.0], [4860.0, 2950000.0], [1830.0, 354000.0], [2520.0, 565000.0], [1590.0, 399950.0], [1200.0, 445000.0], [1370.0, 420550.0], [1290.0, 300000.0], [1320.0, 387500.0], [1140.0, 356000.0], [920.0, 203000.0], [1690.0, 725000.0], [2270.0, 199950.0], [930.0, 395000.0], [1910.0, 415000.0], [2830.0, 628000.0], [2080.0, 420000.0], [2050.0, 790000.0], [1910.0, 663000.0], [1040.0, 234000.0], [1550.0, 252000.0], [2150.0, 649950.0], [1430.0, 270000.0], [1710.0, 650000.0], [2430.0, 580000.0], [2120.0, 733500.0], [2070.0, 501000.0], [1490.0, 578500.0], [1070.0, 256950.0], [1710.0, 561000.0], [3060.0, 399000.0], [3310.0, 680000.0], [3030.0, 400000.0], [2560.0, 518000.0], [1580.0, 255000.0], [1510.0, 425000.0], [7480.0, 800000.0], [2370.0, 687000.0], [2090.0, 327500.0], [3830.0, 887000.0], [3720.0, 980000.0], [1010.0, 285000.0], [2750.0, 627000.0], [2400.0, 387500.0], [1460.0, 444000.0], [3450.0, 850000.0], [1140.0, 660000.0], [1830.0, 249000.0], [1920.0, 325000.0], [2360.0, 392000.0], [840.0, 360000.0], [2090.0, 543000.0], [2320.0, 775000.0], [3010.0, 700000.0], [1730.0, 665000.0], [1370.0, 296000.0], [2340.0, 465000.0], [1380.0, 408000.0], [2930.0, 460000.0], [2400.0, 380000.0], [3840.0, 1118000.0], [1790.0, 280000.0], [790.0, 375000.0], [2850.0, 360000.0], [1830.0, 460000.0], [2530.0, 354950.0], [2020.0, 840000.0], [1540.0, 240000.0], [1930.0, 515000.0], [2240.0, 452500.0], [3320.0, 410000.0], [2790.0, 533112.0], [2430.0, 940000.0], [2210.0, 733000.0], [840.0, 187000.0], [2840.0, 557000.0], [2240.0, 480000.0], [2230.0, 445000.0], [1440.0, 450000.0], [530.0, 238000.0], [2230.0, 340000.0], [2800.0, 440000.0], [780.0, 319000.0], [1340.0, 345000.0], [2020.0, 490000.0], [2990.0, 514500.0], [1820.0, 548500.0], [1600.0, 625000.0], [1780.0, 710000.0], [2360.0, 340000.0], [3300.0, 920000.0], [1180.0, 273000.0], [1190.0, 500000.0], [2090.0, 700000.0], [1150.0, 213400.0], [2230.0, 1035000.0], [2259.0, 262500.0], [2050.0, 375000.0], [1960.0, 215000.0], [2650.0, 410000.0], [1370.0, 257950.0], [3020.0, 1900000.0], [1870.0, 377000.0], [3760.0, 1250000.0], [1270.0, 438000.0], [1560.0, 194990.0], [1800.0, 321000.0], [2260.0, 608700.0], [1420.0, 641000.0], [1750.0, 750000.0], [2420.0, 380000.0], [2390.0, 984000.0], [2550.0, 561000.0], [1520.0, 292600.0], [2340.0, 475000.0], [1000.0, 525000.0], [2770.0, 285000.0], [1840.0, 785200.0], [1630.0, 339950.0], [2380.0, 835100.0], [1610.0, 180000.0], [3400.0, 970000.0], [1750.0, 260000.0], [1280.0, 300000.0], [2400.0, 387500.0], [1390.0, 440000.0], [1150.0, 463000.0], [2660.0, 695000.0], [2780.0, 550000.0], [1270.0, 196900.0], [1710.0, 475000.0], [1580.0, 475000.0], [1430.0, 375000.0], [1850.0, 325000.0], [2280.0, 539500.0], [1800.0, 450000.0], [1890.0, 620000.0], [3840.0, 868700.0], [880.0, 280000.0], [2180.0, 359000.0], [2480.0, 599000.0], [1510.0, 350000.0], [2500.0, 250000.0], [1520.0, 389000.0], [2850.0, 620000.0], [2000.0, 349950.0], [1950.0, 360000.0], [1440.0, 600000.0], [1520.0, 249000.0], [1820.0, 206000.0], [2120.0, 475000.0], [1290.0, 239800.0], [2940.0, 480000.0], [2640.0, 657000.0], [2910.0, 605000.0], [2710.0, 502700.0], [620.0, 402000.0], [1280.0, 390000.0], [1010.0, 387000.0], [1820.0, 469950.0], [3230.0, 370000.0], [1160.0, 508300.0], [930.0, 100000.0], [2240.0, 1080000.0], [2680.0, 417400.0], [2120.0, 437500.0], [2420.0, 329990.0], [1130.0, 182200.0], [3320.0, 989900.0], [1940.0, 540000.0], [1670.0, 280000.0], [2280.0, 475000.0], [820.0, 235000.0], [1900.0, 305000.0], [1540.0, 615000.0], [2110.0, 610000.0], [1300.0, 275000.0], [1300.0, 315500.0], [1610.0, 450000.0], [1840.0, 329000.0], [2400.0, 450000.0], [1400.0, 180000.0], [1650.0, 266750.0], [1300.0, 380000.0], [3700.0, 898000.0], [2100.0, 270000.0], [2970.0, 1260000.0], [1320.0, 529000.0], [1790.0, 336000.0], [1620.0, 220000.0], [2120.0, 578550.0], [1770.0, 275000.0], [2506.0, 350000.0], [1590.0, 750000.0], [1880.0, 625000.0], [1600.0, 525000.0], [1060.0, 475000.0], [1690.0, 292500.0], [3000.0, 887000.0], [4100.0, 775000.0], [1670.0, 274950.0], [3010.0, 837700.0], [3570.0, 663000.0], [1760.0, 810000.0], [1960.0, 395000.0], [830.0, 350000.0], [1700.0, 268000.0], [2960.0, 469000.0], [800.0, 330000.0], [690.0, 260000.0], [2120.0, 375000.0], [2500.0, 397900.0], [1890.0, 400000.0], [3760.0, 429900.0], [1660.0, 420000.0], [1360.0, 415000.0], [1410.0, 288000.0], [2460.0, 715000.0], [1150.0, 225000.0], [750.0, 261000.0], [2300.0, 498000.0], [1240.0, 405000.0], [3690.0, 865000.0], [2820.0, 450000.0], [2708.0, 436952.0], [1870.0, 455000.0], [1260.0, 565000.0], [1450.0, 497000.0], [1550.0, 622000.0], [1920.0, 360000.0], [1450.0, 440000.0], [2400.0, 440000.0], [2080.0, 830000.0], [830.0, 394475.0], [1130.0, 179950.0], [3250.0, 293000.0], [960.0, 234000.0], [3660.0, 839990.0], [2300.0, 615000.0], [1940.0, 285000.0], [3880.0, 815000.0], [1680.0, 345000.0], [1260.0, 312620.0], [2430.0, 650000.0], [2900.0, 865000.0], [1296.0, 399950.0], [720.0, 405000.0], [2390.0, 750000.0], [1650.0, 260000.0], [1900.0, 921500.0], [3170.0, 505000.0], [2740.0, 605000.0], [3410.0, 649000.0], [2240.0, 654000.0], [1590.0, 280000.0], [1700.0, 472500.0], [1610.0, 319000.0], [1660.0, 300000.0], [1990.0, 590000.0], [2830.0, 865000.0], [3990.0, 1200000.0], [720.0, 195000.0], [3170.0, 1600000.0], [1900.0, 450000.0], [1520.0, 738000.0], [1810.0, 1247000.0], [2950.0, 402000.0], [1400.0, 710000.0], [1010.0, 174500.0], [1680.0, 640000.0], [2960.0, 472500.0], [930.0, 250000.0], [2070.0, 539000.0], [1070.0, 425000.0], [1440.0, 258950.0], [1680.0, 396000.0], [1590.0, 240000.0], [1870.0, 650000.0], [1650.0, 435000.0], [1960.0, 372000.0], [1010.0, 180000.0], [3290.0, 728000.0], [1100.0, 421000.0], [2610.0, 650000.0], [2170.0, 619500.0], [770.0, 497000.0], [1180.0, 220000.0], [3780.0, 1029000.0], [1300.0, 257500.0], [3240.0, 902000.0], [1570.0, 318000.0], [2020.0, 311000.0], [4220.0, 1635000.0], [2280.0, 420000.0], [1250.0, 370037.0], [3130.0, 525000.0], [1580.0, 299950.0], [1440.0, 427000.0], [1880.0, 562000.0], [1550.0, 445000.0], [890.0, 542000.0], [1370.0, 535000.0], [1440.0, 562100.0], [1830.0, 365000.0], [960.0, 290000.0], [1840.0, 429000.0], [1700.0, 500000.0], [2090.0, 550000.0], [1280.0, 190000.0], [2370.0, 913888.0], [1780.0, 620000.0], [3200.0, 385000.0], [3200.0, 825000.0], [2440.0, 274700.0], [1550.0, 320000.0], [2403.0, 519900.0], [2330.0, 680000.0], [3110.0, 725000.0], [2350.0, 735000.0], [3490.0, 1620000.0], [1410.0, 301500.0], [3630.0, 698000.0], [1630.0, 541000.0], [2250.0, 499000.0], [2650.0, 1050000.0], [2577.0, 495000.0], [3070.0, 850000.0], [4310.0, 1200000.0], [4280.0, 1900000.0], [1950.0, 615000.0], [2910.0, 1398000.0], [1710.0, 304000.0], [1140.0, 250000.0], [1360.0, 273500.0], [5270.0, 782000.0], [3160.0, 1250000.0], [1260.0, 188200.0], [970.0, 200450.0], [1240.0, 530000.0], [1530.0, 642000.0], [2340.0, 360000.0], [4780.0, 1640000.0], [1770.0, 260000.0], [2290.0, 668500.0], [1650.0, 264500.0], [2640.0, 610000.0], [1040.0, 396000.0], [1640.0, 414250.0], [820.0, 219500.0], [960.0, 325000.0], [1240.0, 238000.0], [2990.0, 802541.0], [3740.0, 1085000.0], [2330.0, 585000.0], [2600.0, 310000.0], [910.0, 405000.0], [5470.0, 1612500.0], [1140.0, 467000.0], [1640.0, 560000.0], [4080.0, 1050000.0], [2580.0, 340000.0], [2400.0, 525000.0], [2830.0, 700000.0], [1440.0, 245000.0], [2290.0, 736000.0], [2020.0, 309900.0], [1800.0, 325000.0], [1580.0, 536000.0], [620.0, 175000.0], [1400.0, 485000.0], [1250.0, 163000.0], [1360.0, 255000.0], [2320.0, 900000.0], [2440.0, 489990.0], [1490.0, 310000.0], [1220.0, 385000.0], [1810.0, 517500.0], [3500.0, 905000.0], [2210.0, 639000.0], [2000.0, 320000.0], [2200.0, 315000.0], [3810.0, 900000.0], [1670.0, 985000.0], [1770.0, 630000.0], [1090.0, 220000.0], [2900.0, 1580000.0], [1780.0, 399000.0], [4370.0, 2350000.0], [1240.0, 315000.0], [3270.0, 600000.0], [1310.0, 200000.0], [2890.0, 1100000.0], [1370.0, 510000.0], [1060.0, 515000.0], [1060.0, 211000.0], [3030.0, 766950.0], [2190.0, 370000.0], [1360.0, 560000.0], [1670.0, 280500.0], [1800.0, 517500.0], [2190.0, 665000.0], [2070.0, 365000.0], [1820.0, 275000.0], [2410.0, 960000.0], [2930.0, 645000.0], [1820.0, 344900.0], [2210.0, 360000.0], [1180.0, 338900.0], [1720.0, 675000.0], [1160.0, 305000.0], [3230.0, 605000.0], [1510.0, 269950.0], [1890.0, 300000.0], [900.0, 350000.0], [2680.0, 750000.0], [1420.0, 360000.0], [1560.0, 290000.0], [1720.0, 667000.0], [1450.0, 339000.0], [1520.0, 375000.0], [2790.0, 835000.0], [4110.0, 2300000.0], [1760.0, 647500.0], [2760.0, 495000.0], [3240.0, 812000.0], [2830.0, 405600.0], [2370.0, 603000.0], [850.0, 490000.0], [1780.0, 311000.0], [2220.0, 532500.0], [2550.0, 353000.0], [3320.0, 760000.0], [1550.0, 273500.0], [1540.0, 227500.0], [2980.0, 620000.0], [1850.0, 360000.0], [2470.0, 597000.0], [2040.0, 289950.0], [1810.0, 799000.0], [2430.0, 762400.0], [2590.0, 538250.0], [1730.0, 300000.0], [840.0, 291000.0], [1440.0, 495000.0], [1640.0, 1014250.0], [1590.0, 190000.0], [1250.0, 305000.0], [1500.0, 490000.0], [1170.0, 613000.0], [2180.0, 480000.0], [2160.0, 900000.0], [4230.0, 1465000.0], [6210.0, 3200000.0], [1970.0, 323000.0], [3890.0, 775000.0], [3730.0, 595000.0], [1160.0, 501000.0], [1810.0, 329500.0], [2020.0, 287500.0], [4870.0, 1735000.0], [750.0, 210000.0], [2170.0, 695000.0], [980.0, 133000.0], [1964.0, 342000.0], [3740.0, 869000.0], [6500.0, 2458000.0], [2790.0, 764000.0], [1650.0, 268000.0], [2520.0, 480000.0], [2990.0, 625000.0], [770.0, 180000.0], [3350.0, 700000.0], [2630.0, 430000.0], [1430.0, 440000.0], [1050.0, 310000.0], [1710.0, 353750.0], [620.0, 244900.0], [1240.0, 275000.0], [1690.0, 499000.0], [1430.0, 215000.0], [2290.0, 653000.0], [2717.0, 338500.0], [1770.0, 419950.0], [2590.0, 925000.0], [2430.0, 305000.0], [1380.0, 272000.0], [1710.0, 332544.0], [2610.0, 605000.0], [3170.0, 748000.0], [3430.0, 524500.0], [2300.0, 738500.0], [1530.0, 450000.0], [2670.0, 642000.0], [3040.0, 330000.0], [4285.0, 1650000.0], [2380.0, 650000.0], [1820.0, 329950.0], [2610.0, 1575000.0], [1130.0, 179950.0], [1790.0, 539000.0], [2660.0, 615000.0], [1920.0, 324500.0], [950.0, 339000.0], [2040.0, 264900.0], [1470.0, 244000.0], [2690.0, 979000.0], [1870.0, 375000.0], [2580.0, 915000.0], [1810.0, 760000.0], [560.0, 106000.0], [870.0, 199950.0], [770.0, 260000.0], [1420.0, 278000.0], [4010.0, 1646000.0], [1550.0, 280000.0], [1510.0, 399950.0], [2140.0, 565000.0], [1530.0, 620000.0], [1360.0, 507000.0], [1440.0, 499950.0], [2640.0, 395000.0], [3160.0, 840000.0], [1370.0, 232500.0], [2240.0, 635000.0], [1210.0, 310000.0], [1580.0, 485000.0], [2100.0, 492000.0], [2340.0, 330000.0], [1550.0, 415000.0], [1810.0, 252500.0], [1800.0, 272000.0], [1680.0, 439000.0], [1440.0, 274000.0], [1870.0, 275000.0], [1320.0, 381156.0], [5000.0, 1730000.0], [970.0, 215000.0], [1960.0, 500000.0], [1690.0, 318000.0], [2010.0, 350000.0], [1970.0, 460000.0], [1810.0, 585000.0], [1600.0, 280000.0], [2620.0, 443000.0], [2190.0, 760000.0], [1400.0, 399950.0], [2240.0, 556000.0], [1720.0, 550000.0], [1780.0, 240000.0], [2070.0, 567000.0], [1430.0, 284000.0], [2260.0, 477590.0], [1611.0, 850000.0], [1630.0, 203000.0], [1480.0, 656000.0], [1350.0, 310000.0], [2660.0, 513000.0], [1010.0, 450000.0], [3920.0, 1650000.0], [1640.0, 525000.0], [2770.0, 359000.0], [5110.0, 2140000.0], [2570.0, 355000.0], [1650.0, 299000.0], [1840.0, 552000.0], [1260.0, 291500.0], [3030.0, 901000.0], [3640.0, 913000.0], [1410.0, 383000.0], [1730.0, 500000.0], [2760.0, 336000.0], [2382.0, 345000.0], [1330.0, 209000.0], [970.0, 262500.0], [1280.0, 180000.0], [2070.0, 410000.0], [2660.0, 595000.0], [2410.0, 1321625.0], [1510.0, 485000.0], [1780.0, 355000.0], [1650.0, 369500.0], [780.0, 285000.0], [1170.0, 415000.0], [2510.0, 811000.0], [2030.0, 365500.0], [1790.0, 455000.0], [2250.0, 363000.0], [3680.0, 425000.0], [1890.0, 570000.0], [2380.0, 800000.0], [1730.0, 350000.0], [1250.0, 170000.0], [2120.0, 340000.0], [2020.0, 465000.0], [1600.0, 400000.0], [1620.0, 415000.0], [3210.0, 565000.0], [2290.0, 481000.0], [1660.0, 315000.0], [2340.0, 485000.0], [3420.0, 635000.0], [2530.0, 525000.0], [2790.0, 378000.0], [1620.0, 510000.0], [940.0, 185000.0], [1580.0, 350000.0], [1660.0, 650000.0], [2550.0, 315000.0], [3470.0, 994000.0], [1930.0, 650000.0], [2340.0, 539000.0], [1320.0, 350000.0], [1150.0, 338500.0], [1360.0, 450000.0], [1230.0, 179900.0], [1710.0, 282900.0], [1680.0, 334000.0], [1480.0, 395000.0], [1440.0, 469000.0], [1840.0, 485000.0], [4040.0, 765000.0], [1870.0, 300000.0], [2840.0, 600000.0], [2100.0, 323000.0], [1670.0, 229999.0], [2020.0, 458000.0], [1008.0, 480000.0], [1290.0, 220000.0], [2110.0, 725000.0], [1520.0, 210000.0], [1980.0, 660000.0], [2060.0, 680000.0], [1600.0, 302000.0], [1620.0, 370000.0], [2560.0, 440000.0], [2320.0, 530000.0], [1090.0, 197000.0], [2850.0, 1150000.0], [1480.0, 280000.0], [1710.0, 524250.0], [2160.0, 532500.0], [1050.0, 325000.0], [1480.0, 525000.0], [4830.0, 1679000.0], [1550.0, 599000.0], [1870.0, 299990.0], [1400.0, 380000.0], [2090.0, 649000.0], [1970.0, 425500.0], [2940.0, 1712500.0], [2390.0, 359800.0], [1360.0, 535000.0], [1650.0, 472500.0], [1440.0, 1038000.0], [2530.0, 340000.0], [3250.0, 519000.0], [1940.0, 425590.0], [1110.0, 379500.0], [988.0, 295000.0], [1250.0, 365000.0], [1900.0, 375000.0], [1396.0, 225000.0], [1320.0, 260000.0], [2580.0, 358000.0], [1540.0, 450000.0], [1700.0, 437000.0]], \"columns\": [{\"dtype\": \"str\", \"name\": \"id\"}, {\"dtype\": \"datetime\", \"name\": \"date\"}, {\"dtype\": \"float\", \"name\": \"price\"}, {\"dtype\": \"float\", \"name\": \"bedrooms\"}, {\"dtype\": \"float\", \"name\": \"bathrooms\"}, {\"dtype\": \"float\", \"name\": \"sqft_living\"}, {\"dtype\": \"int\", \"name\": \"sqft_lot\"}, {\"dtype\": \"str\", \"name\": \"floors\"}, {\"dtype\": \"int\", \"name\": \"waterfront\"}, {\"dtype\": \"int\", \"name\": \"view\"}, {\"dtype\": \"int\", \"name\": \"condition\"}, {\"dtype\": \"int\", \"name\": \"grade\"}, {\"dtype\": \"int\", \"name\": \"sqft_above\"}, {\"dtype\": \"int\", \"name\": \"sqft_basement\"}, {\"dtype\": \"int\", \"name\": \"yr_built\"}, {\"dtype\": \"int\", \"name\": \"yr_renovated\"}, {\"dtype\": \"str\", \"name\": \"zipcode\"}, {\"dtype\": \"float\", \"name\": \"lat\"}, {\"dtype\": \"float\", \"name\": \"long\"}, {\"dtype\": \"float\", \"name\": \"sqft_living15\"}, {\"dtype\": \"float\", \"name\": \"sqft_lot15\"}]}, e);\n",
       "                });\n",
       "            })();\n",
       "        "
      ]
     },
     "metadata": {},
     "output_type": "display_data"
    }
   ],
   "source": [
    "graphlab.canvas.set_target('ipynb')\n",
    "sales.show(view=\"Scatter Plot\", x=\"sqft_living\", y=\"price\")"
   ]
  },
  {
   "cell_type": "markdown",
   "metadata": {},
   "source": [
    "# Split data into training and testing"
   ]
  },
  {
   "cell_type": "markdown",
   "metadata": {},
   "source": [
    "We use seed=0 so that everyone running this notebook gets the same results.  In practice, you may set a random seed (or let GraphLab Create pick a random seed for you).  "
   ]
  },
  {
   "cell_type": "code",
   "execution_count": 3,
   "metadata": {
    "collapsed": false
   },
   "outputs": [],
   "source": [
    "train_data,test_data = sales.random_split(.8,seed=0)"
   ]
  },
  {
   "cell_type": "markdown",
   "metadata": {},
   "source": [
    "# Useful SFrame summary functions"
   ]
  },
  {
   "cell_type": "markdown",
   "metadata": {},
   "source": [
    "In order to make use of the closed form soltion as well as take advantage of graphlab's built in functions we will review some important ones. In particular:\n",
    "* Computing the sum of an SArray\n",
    "* Computing the arithmetic average (mean) of an SArray\n",
    "* multiplying SArrays by constants\n",
    "* multiplying SArrays by other SArrays"
   ]
  },
  {
   "cell_type": "code",
   "execution_count": 7,
   "metadata": {
    "collapsed": false
   },
   "outputs": [
    {
     "name": "stdout",
     "output_type": "stream",
     "text": [
      "average price via method 1: 540088.141905\n",
      "average price via method 2: 540088.141905\n"
     ]
    }
   ],
   "source": [
    "# Let's compute the mean of the House Prices in King County in 2 different ways.\n",
    "prices = sales['price'] # extract the price column of the sales SFrame -- this is now an SArray\n",
    "\n",
    "# recall that the arithmetic average (the mean) is the sum of the prices divided by the total number of houses:\n",
    "sum_prices = prices.sum()\n",
    "num_houses = prices.size() # when prices is an SArray .size() returns its length\n",
    "avg_price_1 = sum_prices/num_houses\n",
    "avg_price_2 = prices.mean() # if you just want the average, the .mean() function\n",
    "print \"average price via method 1: \" + str(avg_price_1)\n",
    "print \"average price via method 2: \" + str(avg_price_2)"
   ]
  },
  {
   "cell_type": "markdown",
   "metadata": {},
   "source": [
    "As we see we get the same answer both ways"
   ]
  },
  {
   "cell_type": "code",
   "execution_count": 8,
   "metadata": {
    "collapsed": false
   },
   "outputs": [
    {
     "name": "stdout",
     "output_type": "stream",
     "text": [
      "the sum of price squared is: 9.21732513355e+15\n"
     ]
    }
   ],
   "source": [
    "# if we want to multiply every price by 0.5 it's a simple as:\n",
    "half_prices = 0.5*prices\n",
    "# Let's compute the sum of squares of price. We can multiply two SArrays of the same length elementwise also with *\n",
    "prices_squared = prices*prices\n",
    "sum_prices_squared = prices_squared.sum() # price_squared is an SArray of the squares and we want to add them up.\n",
    "print \"the sum of price squared is: \" + str(sum_prices_squared)"
   ]
  },
  {
   "cell_type": "markdown",
   "metadata": {},
   "source": [
    "Aside: The python notation x.xxe+yy means x.xx \\* 10^(yy). e.g 100 = 10^2 = 1*10^2 = 1e2 "
   ]
  },
  {
   "cell_type": "markdown",
   "metadata": {},
   "source": [
    "# Build a generic simple linear regression function "
   ]
  },
  {
   "cell_type": "markdown",
   "metadata": {},
   "source": [
    "Armed with these SArray functions we can use the closed form solution found from lecture to compute the slope and intercept for a simple linear regression on observations stored as SArrays: input_feature, output.\n",
    "\n",
    "Complete the following function (or write your own) to compute the simple linear regression slope and intercept:"
   ]
  },
  {
   "cell_type": "code",
   "execution_count": 19,
   "metadata": {
    "collapsed": false
   },
   "outputs": [],
   "source": [
    "def simple_linear_regression(input_feature, output):\n",
    "    # compute the mean of input_feature and output\n",
    "    sum_x = input_feature.sum()\n",
    "    sum_y = output.sum()\n",
    "    mean_x = input_feature.mean()\n",
    "    mean_y = output.mean()\n",
    "    # compute the product of the output and the input_feature and its mean\n",
    "    y_dot_x = (input_feature * output).sum()\n",
    "    # compute the squared value of the input_feature and its mean\n",
    "    x_dot_x = (input_feature * input_feature).sum()\n",
    "    # use the formula for the slope\n",
    "    slope = (y_dot_x - sum_y * mean_x) / (x_dot_x - sum_x * mean_x)\n",
    "    # use the formula for the intercept\n",
    "    intercept = mean_y - slope * mean_x\n",
    "    return (intercept, slope)"
   ]
  },
  {
   "cell_type": "markdown",
   "metadata": {},
   "source": [
    "We can test that our function works by passing it something where we know the answer. In particular we can generate a feature and then put the output exactly on a line: output = 1 + 1\\*input_feature then we know both our slope and intercept should be 1"
   ]
  },
  {
   "cell_type": "code",
   "execution_count": 20,
   "metadata": {
    "collapsed": false,
    "scrolled": true
   },
   "outputs": [
    {
     "name": "stdout",
     "output_type": "stream",
     "text": [
      "Intercept: 1.0\n",
      "Slope: 1.0\n"
     ]
    }
   ],
   "source": [
    "test_feature = graphlab.SArray(range(5))\n",
    "test_output = graphlab.SArray(1 + 1*test_feature)\n",
    "(test_intercept, test_slope) =  simple_linear_regression(test_feature, test_output)\n",
    "print \"Intercept: \" + str(test_intercept)\n",
    "print \"Slope: \" + str(test_slope)"
   ]
  },
  {
   "cell_type": "markdown",
   "metadata": {},
   "source": [
    "Now that we know it works let's build a regression model for predicting price based on sqft_living. Rembember that we train on train_data!"
   ]
  },
  {
   "cell_type": "code",
   "execution_count": 21,
   "metadata": {
    "collapsed": false
   },
   "outputs": [
    {
     "name": "stdout",
     "output_type": "stream",
     "text": [
      "Intercept: -47116.0765749\n",
      "Slope: 281.958838568\n"
     ]
    }
   ],
   "source": [
    "sqft_intercept, sqft_slope = simple_linear_regression(train_data['sqft_living'], train_data['price'])\n",
    "\n",
    "print \"Intercept: \" + str(sqft_intercept)\n",
    "print \"Slope: \" + str(sqft_slope)"
   ]
  },
  {
   "cell_type": "markdown",
   "metadata": {},
   "source": [
    "# Predicting Values"
   ]
  },
  {
   "cell_type": "markdown",
   "metadata": {},
   "source": [
    "Now that we have the model parameters: intercept & slope we can make predictions. Using SArrays it's easy to multiply an SArray by a constant and add a constant value. Complete the following function to return the predicted output given the input_feature, slope and intercept:"
   ]
  },
  {
   "cell_type": "code",
   "execution_count": 22,
   "metadata": {
    "collapsed": false
   },
   "outputs": [],
   "source": [
    "def get_regression_predictions(input_feature, intercept, slope):\n",
    "    return input_feature * slope + intercept"
   ]
  },
  {
   "cell_type": "markdown",
   "metadata": {},
   "source": [
    "Now that we can calculate a prediction given the slop and intercept let's make a prediction. Use (or alter) the following to find out the estimated price for a house with 2650 squarefeet according to the squarefeet model we estiamted above.\n",
    "\n",
    "**Quiz Question: Using your Slope and Intercept from (4), What is the predicted price for a house with 2650 sqft?**"
   ]
  },
  {
   "cell_type": "code",
   "execution_count": 23,
   "metadata": {
    "collapsed": false
   },
   "outputs": [
    {
     "name": "stdout",
     "output_type": "stream",
     "text": [
      "The estimated price for a house with 2650 squarefeet is $700074.85\n"
     ]
    }
   ],
   "source": [
    "my_house_sqft = 2650\n",
    "estimated_price = get_regression_predictions(my_house_sqft, sqft_intercept, sqft_slope)\n",
    "print \"The estimated price for a house with %d squarefeet is $%.2f\" % (my_house_sqft, estimated_price)"
   ]
  },
  {
   "cell_type": "markdown",
   "metadata": {},
   "source": [
    "# Residual Sum of Squares"
   ]
  },
  {
   "cell_type": "markdown",
   "metadata": {},
   "source": [
    "Now that we have a model and can make predictions let's evaluate our model using Residual Sum of Squares (RSS). Recall that RSS is the sum of the squares of the residuals and the residuals is just a fancy word for the difference between the predicted output and the true output. \n",
    "\n",
    "Complete the following (or write your own) function to compute the RSS of a simple linear regression model given the input_feature, output, intercept and slope:"
   ]
  },
  {
   "cell_type": "code",
   "execution_count": 24,
   "metadata": {
    "collapsed": true
   },
   "outputs": [],
   "source": [
    "def get_residual_sum_of_squares(input_feature, output, intercept, slope):\n",
    "    # First get the predictions\n",
    "    y_hat = get_regression_predictions(input_feature, intercept, slope)\n",
    "    # then compute the residuals (since we are squaring it doesn't matter which order you subtract)\n",
    "    error = y_hat - output\n",
    "    # square the residuals and add them up\n",
    "    RSS = (error * error).sum()\n",
    "    return(RSS)"
   ]
  },
  {
   "cell_type": "markdown",
   "metadata": {},
   "source": [
    "Let's test our get_residual_sum_of_squares function by applying it to the test model where the data lie exactly on a line. Since they lie exactly on a line the residual sum of squares should be zero!"
   ]
  },
  {
   "cell_type": "code",
   "execution_count": 25,
   "metadata": {
    "collapsed": false
   },
   "outputs": [
    {
     "name": "stdout",
     "output_type": "stream",
     "text": [
      "0.0\n"
     ]
    }
   ],
   "source": [
    "print get_residual_sum_of_squares(test_feature, test_output, test_intercept, test_slope) # should be 0.0"
   ]
  },
  {
   "cell_type": "markdown",
   "metadata": {},
   "source": [
    "Now use your function to calculate the RSS on training data from the squarefeet model calculated above.\n",
    "\n",
    "**Quiz Question: According to this function and the slope and intercept from the squarefeet model What is the RSS for the simple linear regression using squarefeet to predict prices on TRAINING data?**"
   ]
  },
  {
   "cell_type": "code",
   "execution_count": 26,
   "metadata": {
    "collapsed": false
   },
   "outputs": [
    {
     "name": "stdout",
     "output_type": "stream",
     "text": [
      "The RSS of predicting Prices based on Square Feet is : 1.20191835632e+15\n"
     ]
    }
   ],
   "source": [
    "rss_prices_on_sqft = get_residual_sum_of_squares(train_data['sqft_living'], train_data['price'], sqft_intercept, sqft_slope)\n",
    "print 'The RSS of predicting Prices based on Square Feet is : ' + str(rss_prices_on_sqft)"
   ]
  },
  {
   "cell_type": "markdown",
   "metadata": {},
   "source": [
    "# Predict the squarefeet given price"
   ]
  },
  {
   "cell_type": "markdown",
   "metadata": {},
   "source": [
    "What if we want to predict the squarefoot given the price? Since we have an equation y = a + b\\*x we can solve the function for x. So that if we have the intercept (a) and the slope (b) and the price (y) we can solve for the estimated squarefeet (x).\n",
    "\n",
    "Comlplete the following function to compute the inverse regression estimate, i.e. predict the input_feature given the output!"
   ]
  },
  {
   "cell_type": "code",
   "execution_count": 27,
   "metadata": {
    "collapsed": true
   },
   "outputs": [],
   "source": [
    "def inverse_regression_predictions(output, intercept, slope):\n",
    "    # solve output = slope + intercept*input_feature for input_feature. Use this equation to compute the inverse predictions:\n",
    "    return (output - intercept) / slope"
   ]
  },
  {
   "cell_type": "markdown",
   "metadata": {},
   "source": [
    "Now that we have a function to compute the squarefeet given the price from our simple regression model let's see how big we might expect a house that coses $800,000 to be.\n",
    "\n",
    "**Quiz Question: According to this function and the regression slope and intercept from (3) what is the estimated square-feet for a house costing $800,000?**"
   ]
  },
  {
   "cell_type": "code",
   "execution_count": 28,
   "metadata": {
    "collapsed": false
   },
   "outputs": [
    {
     "name": "stdout",
     "output_type": "stream",
     "text": [
      "The estimated squarefeet for a house worth $800000.00 is 3004\n"
     ]
    }
   ],
   "source": [
    "my_house_price = 800000\n",
    "estimated_squarefeet = inverse_regression_predictions(my_house_price, sqft_intercept, sqft_slope)\n",
    "print \"The estimated squarefeet for a house worth $%.2f is %d\" % (my_house_price, estimated_squarefeet)"
   ]
  },
  {
   "cell_type": "markdown",
   "metadata": {},
   "source": [
    "# New Model: estimate prices from bedrooms"
   ]
  },
  {
   "cell_type": "markdown",
   "metadata": {},
   "source": [
    "We have made one model for predicting house prices using squarefeet, but there are many other features in the sales SFrame. \n",
    "Use your simple linear regression function to estimate the regression parameters from predicting Prices based on number of bedrooms. Use the training data!"
   ]
  },
  {
   "cell_type": "code",
   "execution_count": 35,
   "metadata": {
    "collapsed": false
   },
   "outputs": [
    {
     "data": {
      "application/javascript": [
       "$(\"head\").append($(\"<link/>\").attr({\n",
       "  rel:  \"stylesheet\",\n",
       "  type: \"text/css\",\n",
       "  href: \"//cdnjs.cloudflare.com/ajax/libs/font-awesome/4.1.0/css/font-awesome.min.css\"\n",
       "}));\n",
       "$(\"head\").append($(\"<link/>\").attr({\n",
       "  rel:  \"stylesheet\",\n",
       "  type: \"text/css\",\n",
       "  href: \"//dato.com/files/canvas/1.7.1/css/canvas.css\"\n",
       "}));\n",
       "\n",
       "            (function(){\n",
       "\n",
       "                var e = null;\n",
       "                if (typeof element == 'undefined') {\n",
       "                    var scripts = document.getElementsByTagName('script');\n",
       "                    var thisScriptTag = scripts[scripts.length-1];\n",
       "                    var parentDiv = thisScriptTag.parentNode;\n",
       "                    e = document.createElement('div');\n",
       "                    parentDiv.appendChild(e);\n",
       "                } else {\n",
       "                    e = element[0];\n",
       "                }\n",
       "\n",
       "                if (typeof requirejs !== 'undefined') {\n",
       "                    // disable load timeout; ipython_app.js is large and can take a while to load.\n",
       "                    requirejs.config({waitSeconds: 0});\n",
       "                }\n",
       "\n",
       "                require(['//dato.com/files/canvas/1.7.1/js/ipython_app.js'], function(IPythonApp){\n",
       "                    var app = new IPythonApp();\n",
       "                    app.attachView('sframe','Plots', {\"selected_variable\": {\"name\": [\"sales\"], \"descriptives\": {\"rows\": 21613, \"columns\": 21}, \"view_component\": \"Plots\", \"view_file\": \"sframe\", \"view_params\": {\"y\": \"price\", \"x\": \"bedrooms\", \"columns\": [\"id\", \"date\", \"price\", \"bedrooms\", \"bathrooms\", \"sqft_living\", \"sqft_lot\", \"floors\", \"waterfront\", \"view\", \"condition\", \"grade\", \"sqft_above\", \"sqft_basement\", \"yr_built\", \"yr_renovated\", \"zipcode\", \"lat\", \"long\", \"sqft_living15\", \"sqft_lot15\"], \"view\": \"Scatter Plot\"}, \"view_components\": [\"Summary\", \"Table\", \"Bar Chart\", \"BoxWhisker Plot\", \"Line Chart\", \"Scatter Plot\", \"Heat Map\", \"Plots\"], \"type\": \"SFrame\", \"columns\": [{\"dtype\": \"str\", \"name\": \"id\"}, {\"dtype\": \"datetime\", \"name\": \"date\"}, {\"dtype\": \"float\", \"name\": \"price\"}, {\"dtype\": \"float\", \"name\": \"bedrooms\"}, {\"dtype\": \"float\", \"name\": \"bathrooms\"}, {\"dtype\": \"float\", \"name\": \"sqft_living\"}, {\"dtype\": \"int\", \"name\": \"sqft_lot\"}, {\"dtype\": \"str\", \"name\": \"floors\"}, {\"dtype\": \"int\", \"name\": \"waterfront\"}, {\"dtype\": \"int\", \"name\": \"view\"}, {\"dtype\": \"int\", \"name\": \"condition\"}, {\"dtype\": \"int\", \"name\": \"grade\"}, {\"dtype\": \"int\", \"name\": \"sqft_above\"}, {\"dtype\": \"int\", \"name\": \"sqft_basement\"}, {\"dtype\": \"int\", \"name\": \"yr_built\"}, {\"dtype\": \"int\", \"name\": \"yr_renovated\"}, {\"dtype\": \"str\", \"name\": \"zipcode\"}, {\"dtype\": \"float\", \"name\": \"lat\"}, {\"dtype\": \"float\", \"name\": \"long\"}, {\"dtype\": \"float\", \"name\": \"sqft_living15\"}, {\"dtype\": \"float\", \"name\": \"sqft_lot15\"}], \"column_identifiers\": [\"bathrooms\", \"sqft_living15\", \"sqft_above\", \"grade\", \"yr_built\", \"price\", \"bedrooms\", \"zipcode\", \"long\", \"id\", \"sqft_lot15\", \"sqft_living\", \"floors\", \"sqft_lot\", \"date\", \"waterfront\", \"sqft_basement\", \"yr_renovated\", \"lat\", \"condition\", \"view\"]}, \"complete\": 1, \"ipython\": true, \"progress\": 1.0, \"data\": [[2.0, 174500.0], [3.0, 190000.0], [3.0, 275000.0], [5.0, 400000.0], [3.0, 875000.0], [3.0, 950000.0], [4.0, 650000.0], [3.0, 407500.0], [4.0, 775000.0], [3.0, 698000.0], [2.0, 221900.0], [2.0, 468000.0], [3.0, 467000.0], [5.0, 369000.0], [5.0, 1250000.0], [5.0, 769995.0], [3.0, 335000.0], [3.0, 240000.0], [2.0, 315000.0], [3.0, 460000.0], [4.0, 395000.0], [4.0, 685000.0], [3.0, 639000.0], [4.0, 775000.0], [4.0, 967000.0], [4.0, 920000.0], [3.0, 937000.0], [3.0, 500000.0], [3.0, 390000.0], [2.0, 529000.0], [4.0, 460000.0], [3.0, 680000.0], [4.0, 1325000.0], [4.0, 970000.0], [3.0, 308000.0], [3.0, 585000.0], [3.0, 405000.0], [5.0, 300000.0], [4.0, 323000.0], [4.0, 1950000.0], [3.0, 219950.0], [4.0, 775000.0], [5.0, 861990.0], [2.0, 222900.0], [5.0, 358000.0], [3.0, 360000.0], [4.0, 390000.0], [5.0, 552500.0], [2.0, 685000.0], [3.0, 1600000.0], [3.0, 590000.0], [4.0, 909000.0], [5.0, 437000.0], [4.0, 649950.0], [3.0, 850000.0], [3.0, 330000.0], [3.0, 425000.0], [3.0, 251000.0], [3.0, 400000.0], [4.0, 403504.0], [3.0, 798000.0], [4.0, 800000.0], [4.0, 1058997.0], [5.0, 625000.0], [3.0, 475000.0], [5.0, 305000.0], [3.0, 635000.0], [2.0, 250000.0], [3.0, 204000.0], [3.0, 500000.0], [3.0, 309950.0], [4.0, 855169.0], [4.0, 398000.0], [3.0, 635000.0], [4.0, 324950.0], [4.0, 375000.0], [5.0, 390000.0], [3.0, 405000.0], [3.0, 439000.0], [4.0, 1940000.0], [4.0, 423000.0], [4.0, 719521.0], [3.0, 399950.0], [4.0, 303500.0], [3.0, 819000.0], [3.0, 1150000.0], [4.0, 667400.0], [5.0, 670000.0], [3.0, 270000.0], [5.0, 1965000.0], [3.0, 925000.0], [4.0, 560000.0], [4.0, 720000.0], [3.0, 542000.0], [2.0, 163250.0], [5.0, 1599950.0], [4.0, 1650000.0], [3.0, 400000.0], [3.0, 395900.0], [3.0, 238000.0], [4.0, 545000.0], [3.0, 539950.0], [4.0, 655500.0], [4.0, 375000.0], [3.0, 765000.0], [3.0, 727000.0], [4.0, 1280000.0], [4.0, 315000.0], [3.0, 898000.0], [3.0, 1500000.0], [4.0, 657500.0], [3.0, 570000.0], [3.0, 225000.0], [3.0, 395000.0], [4.0, 330000.0], [2.0, 529000.0], [3.0, 1052000.0], [5.0, 359900.0], [3.0, 680000.0], [4.0, 253000.0], [2.0, 443500.0], [2.0, 180000.0], [3.0, 480000.0], [3.0, 325000.0], [4.0, 875000.0], [2.0, 111300.0], [3.0, 527500.0], [4.0, 415000.0], [3.0, 435000.0], [4.0, 320000.0], [3.0, 459900.0], [5.0, 385000.0], [3.0, 225000.0], [3.0, 453246.0], [4.0, 780000.0], [4.0, 556000.0], [2.0, 397000.0], [3.0, 665000.0], [5.0, 352000.0], [4.0, 657000.0], [3.0, 565000.0], [3.0, 799950.0], [4.0, 248000.0], [4.0, 723000.0], [4.0, 1135000.0], [5.0, 480000.0], [3.0, 358000.0], [3.0, 596000.0], [4.0, 635000.0], [3.0, 817500.0], [4.0, 359000.0], [2.0, 445000.0], [4.0, 753000.0], [4.0, 426000.0], [2.0, 575000.0], [2.0, 447000.0], [4.0, 289950.0], [2.0, 283000.0], [3.0, 800000.0], [4.0, 320000.0], [4.0, 1234000.0], [3.0, 625000.0], [3.0, 725000.0], [4.0, 392440.0], [3.0, 402300.0], [3.0, 475000.0], [4.0, 1481000.0], [4.0, 260000.0], [3.0, 300000.0], [3.0, 300000.0], [4.0, 590000.0], [3.0, 700000.0], [6.0, 1000000.0], [5.0, 302300.0], [2.0, 500000.0], [4.0, 464900.0], [3.0, 405000.0], [3.0, 333000.0], [3.0, 269950.0], [3.0, 450000.0], [4.0, 449950.0], [3.0, 371000.0], [2.0, 245500.0], [3.0, 1250000.0], [2.0, 480000.0], [4.0, 199000.0], [4.0, 425000.0], [3.0, 385500.0], [3.0, 241500.0], [4.0, 353000.0], [4.0, 855000.0], [4.0, 263500.0], [3.0, 350000.0], [4.0, 299000.0], [3.0, 600000.0], [3.0, 311000.0], [3.0, 450000.0], [4.0, 430000.0], [4.0, 565000.0], [4.0, 260000.0], [3.0, 245100.0], [3.0, 299000.0], [2.0, 245000.0], [2.0, 514000.0], [4.0, 328000.0], [3.0, 454000.0], [3.0, 677900.0], [3.0, 299000.0], [3.0, 577000.0], [4.0, 950000.0], [3.0, 762400.0], [3.0, 313000.0], [4.0, 300000.0], [3.0, 390000.0], [4.0, 500000.0], [3.0, 448000.0], [4.0, 1033888.0], [3.0, 246000.0], [4.0, 398500.0], [6.0, 650000.0], [4.0, 686000.0], [3.0, 396000.0], [4.0, 850000.0], [4.0, 450000.0], [3.0, 339275.0], [4.0, 515000.0], [2.0, 479950.0], [2.0, 495000.0], [4.0, 498000.0], [1.0, 385000.0], [2.0, 655000.0], [3.0, 522500.0], [4.0, 625000.0], [3.0, 215000.0], [3.0, 975000.0], [3.0, 521000.0], [3.0, 415000.0], [4.0, 560000.0], [4.0, 740000.0], [4.0, 489000.0], [3.0, 714000.0], [4.0, 672500.0], [5.0, 580000.0], [3.0, 294000.0], [2.0, 480000.0], [2.0, 298000.0], [3.0, 290000.0], [4.0, 1228000.0], [3.0, 258000.0], [4.0, 1229000.0], [3.0, 1025000.0], [3.0, 350500.0], [2.0, 520000.0], [3.0, 350000.0], [4.0, 221000.0], [4.0, 293000.0], [3.0, 340000.0], [4.0, 860000.0], [3.0, 657500.0], [4.0, 1550000.0], [4.0, 395000.0], [3.0, 267500.0], [3.0, 325000.0], [3.0, 775000.0], [2.0, 399900.0], [4.0, 290000.0], [2.0, 752500.0], [2.0, 415000.0], [2.0, 605125.0], [3.0, 657044.0], [3.0, 490000.0], [3.0, 555000.0], [2.0, 490000.0], [2.0, 335000.0], [4.0, 300000.0], [2.0, 384500.0], [4.0, 456000.0], [3.0, 284000.0], [4.0, 883000.0], [4.0, 339888.0], [4.0, 905000.0], [2.0, 286000.0], [3.0, 535000.0], [4.0, 635000.0], [5.0, 410000.0], [3.0, 279000.0], [4.0, 675000.0], [3.0, 435000.0], [3.0, 355000.0], [2.0, 500000.0], [3.0, 530000.0], [2.0, 275000.0], [3.0, 317000.0], [3.0, 455000.0], [3.0, 430000.0], [3.0, 420000.0], [3.0, 320000.0], [3.0, 226750.0], [5.0, 559900.0], [4.0, 610000.0], [3.0, 361810.0], [3.0, 290000.0], [4.0, 579950.0], [5.0, 580000.0], [4.0, 380000.0], [3.0, 750000.0], [3.0, 336500.0], [3.0, 865000.0], [3.0, 441000.0], [4.0, 480000.0], [4.0, 452000.0], [4.0, 569000.0], [4.0, 583000.0], [2.0, 447000.0], [4.0, 1400000.0], [3.0, 185000.0], [4.0, 687000.0], [5.0, 432000.0], [3.0, 465000.0], [4.0, 355000.0], [2.0, 405000.0], [3.0, 609500.0], [3.0, 549000.0], [3.0, 240000.0], [5.0, 410000.0], [3.0, 450000.0], [4.0, 375000.0], [2.0, 286300.0], [3.0, 500000.0], [4.0, 648475.0], [2.0, 235000.0], [4.0, 763776.0], [3.0, 339900.0], [3.0, 354500.0], [3.0, 300523.0], [3.0, 369950.0], [3.0, 223000.0], [3.0, 410000.0], [3.0, 230000.0], [3.0, 520500.0], [4.0, 340000.0], [2.0, 210000.0], [2.0, 380000.0], [5.0, 489990.0], [4.0, 339950.0], [4.0, 750000.0], [3.0, 160000.0], [4.0, 375000.0], [3.0, 485000.0], [3.0, 424000.0], [6.0, 305000.0], [3.0, 330000.0], [3.0, 649950.0], [3.0, 432900.0], [2.0, 362362.0], [3.0, 331000.0], [2.0, 212700.0], [5.0, 1720000.0], [2.0, 306000.0], [4.0, 1250000.0], [3.0, 715000.0], [4.0, 372000.0], [4.0, 685100.0], [3.0, 252000.0], [1.0, 291970.0], [2.0, 275000.0], [3.0, 887200.0], [5.0, 900000.0], [3.0, 450000.0], [3.0, 519500.0], [3.0, 500000.0], [3.0, 239000.0], [3.0, 680000.0], [4.0, 459500.0], [7.0, 770000.0], [3.0, 209950.0], [4.0, 995000.0], [3.0, 230000.0], [3.0, 799990.0], [3.0, 285000.0], [3.0, 950000.0], [4.0, 255000.0], [6.0, 1050000.0], [5.0, 210000.0], [3.0, 415250.0], [4.0, 519900.0], [3.0, 625000.0], [4.0, 1360000.0], [3.0, 425000.0], [3.0, 374000.0], [4.0, 445000.0], [4.0, 545000.0], [3.0, 475000.0], [6.0, 915000.0], [2.0, 235000.0], [4.0, 400950.0], [3.0, 432100.0], [5.0, 1570000.0], [4.0, 749000.0], [3.0, 375000.0], [5.0, 600000.0], [3.0, 467000.0], [5.0, 845000.0], [3.0, 408000.0], [3.0, 700000.0], [4.0, 620000.0], [3.0, 365000.0], [3.0, 300000.0], [2.0, 401000.0], [3.0, 510000.0], [3.0, 403000.0], [3.0, 635000.0], [3.0, 632925.0], [3.0, 284200.0], [4.0, 415000.0], [3.0, 710000.0], [5.0, 2998000.0], [4.0, 1220000.0], [4.0, 919204.0], [3.0, 427500.0], [3.0, 415500.0], [3.0, 625000.0], [5.0, 484000.0], [2.0, 310000.0], [3.0, 344500.0], [2.0, 670000.0], [3.0, 725000.0], [3.0, 374500.0], [3.0, 780000.0], [2.0, 495000.0], [3.0, 160000.0], [2.0, 700000.0], [5.0, 399000.0], [4.0, 338150.0], [2.0, 347000.0], [3.0, 400000.0], [3.0, 573500.0], [3.0, 383001.0], [2.0, 438000.0], [3.0, 317000.0], [3.0, 250000.0], [3.0, 680000.0], [3.0, 399000.0], [4.0, 1045000.0], [3.0, 775000.0], [4.0, 530000.0], [2.0, 1200000.0], [3.0, 629000.0], [2.0, 459500.0], [3.0, 585000.0], [5.0, 400000.0], [4.0, 900000.0], [3.0, 1266525.0], [4.0, 805000.0], [4.0, 725000.0], [3.0, 551000.0], [4.0, 850000.0], [3.0, 354000.0], [3.0, 589999.0], [4.0, 371000.0], [4.0, 875000.0], [4.0, 889000.0], [3.0, 212000.0], [4.0, 415000.0], [3.0, 500000.0], [3.0, 315000.0], [3.0, 390000.0], [5.0, 564000.0], [3.0, 330000.0], [3.0, 272000.0], [2.0, 290900.0], [5.0, 932808.0], [3.0, 340000.0], [3.0, 721500.0], [4.0, 423000.0], [3.0, 599950.0], [3.0, 649950.0], [3.0, 553000.0], [4.0, 359950.0], [4.0, 550000.0], [3.0, 456700.0], [5.0, 1035480.0], [4.0, 597000.0], [3.0, 432000.0], [2.0, 461100.0], [3.0, 625000.0], [6.0, 604000.0], [2.0, 380000.0], [3.0, 410000.0], [3.0, 249000.0], [4.0, 945800.0], [3.0, 530000.0], [4.0, 841000.0], [4.0, 265000.0], [3.0, 530000.0], [2.0, 490000.0], [5.0, 2903000.0], [4.0, 810000.0], [4.0, 395000.0], [3.0, 319000.0], [5.0, 495000.0], [2.0, 475000.0], [3.0, 296500.0], [3.0, 738500.0], [4.0, 803000.0], [4.0, 250600.0], [3.0, 645000.0], [4.0, 530000.0], [2.0, 350500.0], [3.0, 135000.0], [2.0, 114975.0], [4.0, 451000.0], [3.0, 443000.0], [3.0, 294000.0], [4.0, 379950.0], [4.0, 400000.0], [3.0, 641000.0], [2.0, 115000.0], [3.0, 325000.0], [3.0, 725000.0], [3.0, 699000.0], [3.0, 277000.0], [3.0, 384200.0], [4.0, 459000.0], [3.0, 950000.0], [3.0, 620000.0], [3.0, 269000.0], [3.0, 247500.0], [2.0, 310000.0], [2.0, 348500.0], [2.0, 268500.0], [3.0, 261350.0], [4.0, 934550.0], [3.0, 660000.0], [3.0, 416286.0], [2.0, 526000.0], [3.0, 466950.0], [3.0, 450000.0], [3.0, 950000.0], [4.0, 775000.0], [3.0, 490000.0], [4.0, 560000.0], [4.0, 760000.0], [3.0, 585000.0], [4.0, 710000.0], [5.0, 667000.0], [4.0, 975000.0], [4.0, 731500.0], [4.0, 433000.0], [5.0, 661500.0], [4.0, 550000.0], [4.0, 305000.0], [3.0, 652000.0], [2.0, 747000.0], [3.0, 300000.0], [4.0, 550000.0], [3.0, 308550.0], [6.0, 1174660.0], [3.0, 349950.0], [2.0, 330000.0], [5.0, 2700000.0], [4.0, 750000.0], [2.0, 285000.0], [4.0, 863000.0], [3.0, 371000.0], [3.0, 502775.0], [4.0, 757500.0], [3.0, 415000.0], [3.0, 610000.0], [3.0, 440000.0], [4.0, 556000.0], [4.0, 359000.0], [2.0, 333000.0], [4.0, 379500.0], [3.0, 713414.0], [2.0, 114000.0], [4.0, 452250.0], [4.0, 335000.0], [3.0, 402000.0], [3.0, 521000.0], [4.0, 695000.0], [3.0, 217000.0], [3.0, 880000.0], [3.0, 372000.0], [4.0, 430000.0], [3.0, 615000.0], [3.0, 299990.0], [3.0, 499950.0], [3.0, 196000.0], [5.0, 1285000.0], [4.0, 638250.0], [5.0, 577000.0], [4.0, 610000.0], [3.0, 209900.0], [3.0, 282000.0], [3.0, 230000.0], [2.0, 576250.0], [3.0, 531000.0], [3.0, 550000.0], [2.0, 95000.0], [3.0, 257100.0], [3.0, 525000.0], [4.0, 320000.0], [2.0, 334550.0], [4.0, 1275000.0], [3.0, 425000.0], [4.0, 247500.0], [3.0, 230000.0], [4.0, 322000.0], [5.0, 811500.0], [3.0, 265000.0], [4.0, 545000.0], [3.0, 243000.0], [3.0, 201500.0], [3.0, 607000.0], [3.0, 613000.0], [2.0, 316000.0], [2.0, 295000.0], [5.0, 349950.0], [3.0, 504750.0], [4.0, 375000.0], [3.0, 394000.0], [4.0, 550000.0], [5.0, 935000.0], [3.0, 295000.0], [3.0, 289500.0], [4.0, 905000.0], [4.0, 840000.0], [4.0, 424950.0], [3.0, 370000.0], [2.0, 378510.0], [3.0, 253000.0], [2.0, 482500.0], [3.0, 149500.0], [2.0, 580000.0], [3.0, 405000.0], [3.0, 413565.0], [3.0, 245000.0], [4.0, 795000.0], [3.0, 2400000.0], [4.0, 525000.0], [3.0, 608095.0], [3.0, 360000.0], [4.0, 788000.0], [3.0, 600000.0], [2.0, 329000.0], [4.0, 285000.0], [3.0, 780000.0], [3.0, 425000.0], [6.0, 1020000.0], [5.0, 1000000.0], [4.0, 825000.0], [3.0, 823000.0], [3.0, 401000.0], [3.0, 288350.0], [3.0, 375000.0], [3.0, 520000.0], [3.0, 256000.0], [3.0, 510000.0], [4.0, 539500.0], [4.0, 535000.0], [4.0, 460000.0], [3.0, 475000.0], [3.0, 1400000.0], [4.0, 712000.0], [3.0, 439000.0], [3.0, 383000.0], [4.0, 655000.0], [4.0, 411800.0], [3.0, 608000.0], [3.0, 528000.0], [2.0, 160000.0], [3.0, 451000.0], [4.0, 800000.0], [3.0, 385000.0], [4.0, 1310000.0], [3.0, 423800.0], [3.0, 295000.0], [2.0, 399950.0], [5.0, 925000.0], [4.0, 390000.0], [3.0, 653000.0], [3.0, 372000.0], [4.0, 429900.0], [3.0, 357500.0], [3.0, 355000.0], [3.0, 320000.0], [3.0, 263700.0], [4.0, 532500.0], [1.0, 382888.0], [3.0, 415000.0], [4.0, 375000.0], [3.0, 450000.0], [3.0, 369950.0], [3.0, 500000.0], [4.0, 659000.0], [4.0, 569000.0], [5.0, 750000.0], [3.0, 455000.0], [4.0, 380000.0], [3.0, 722000.0], [4.0, 510000.0], [5.0, 2400000.0], [4.0, 595000.0], [4.0, 399500.0], [4.0, 875000.0], [3.0, 279000.0], [3.0, 570000.0], [4.0, 345000.0], [2.0, 376000.0], [3.0, 200000.0], [2.0, 210000.0], [3.0, 254000.0], [4.0, 215000.0], [7.0, 884900.0], [4.0, 590000.0], [4.0, 440000.0], [3.0, 625000.0], [5.0, 1038000.0], [3.0, 267000.0], [3.0, 550000.0], [5.0, 1234582.0], [2.0, 400000.0], [3.0, 636000.0], [5.0, 600000.0], [4.0, 589000.0], [3.0, 336000.0], [4.0, 275000.0], [3.0, 207500.0], [4.0, 325000.0], [3.0, 425000.0], [3.0, 410000.0], [3.0, 814842.0], [3.0, 326000.0], [3.0, 338950.0], [5.0, 550000.0], [2.0, 618000.0], [3.0, 520000.0], [4.0, 463000.0], [3.0, 360000.0], [3.0, 149000.0], [4.0, 360000.0], [4.0, 921000.0], [3.0, 850000.0], [4.0, 813000.0], [3.0, 324500.0], [3.0, 800000.0], [4.0, 495000.0], [3.0, 550000.0], [4.0, 456000.0], [3.0, 239950.0], [4.0, 294450.0], [3.0, 389000.0], [5.0, 469950.0], [3.0, 335000.0], [3.0, 247000.0], [6.0, 405000.0], [3.0, 780000.0], [3.0, 477500.0], [4.0, 470000.0], [3.0, 686000.0], [3.0, 400000.0], [2.0, 290000.0], [3.0, 370000.0], [3.0, 445000.0], [2.0, 420000.0], [4.0, 785000.0], [3.0, 291700.0], [3.0, 763000.0], [2.0, 418000.0], [3.0, 383000.0], [4.0, 600000.0], [3.0, 185000.0], [3.0, 860000.0], [3.0, 390000.0], [4.0, 415000.0], [4.0, 1388000.0], [3.0, 310000.0], [3.0, 126500.0], [5.0, 875000.0], [3.0, 225000.0], [3.0, 400000.0], [4.0, 729000.0], [3.0, 325000.0], [4.0, 283000.0], [3.0, 230000.0], [3.0, 491000.0], [4.0, 700000.0], [3.0, 525000.0], [3.0, 380000.0], [3.0, 299000.0], [4.0, 170000.0], [2.0, 635000.0], [3.0, 299950.0], [3.0, 521000.0], [4.0, 640000.0], [2.0, 342888.0], [4.0, 800000.0], [3.0, 572000.0], [1.0, 219500.0], [3.0, 665000.0], [4.0, 340000.0], [4.0, 710000.0], [3.0, 490000.0], [4.0, 400000.0], [3.0, 500000.0], [3.0, 440000.0], [3.0, 305000.0], [3.0, 511000.0], [3.0, 361000.0], [3.0, 457000.0], [3.0, 333500.0], [3.0, 299900.0], [2.0, 350000.0], [3.0, 490000.0], [1.0, 264000.0], [3.0, 435000.0], [2.0, 345000.0], [2.0, 238950.0], [3.0, 540000.0], [4.0, 625000.0], [4.0, 600000.0], [3.0, 615000.0], [3.0, 603000.0], [3.0, 712000.0], [3.0, 413450.0], [3.0, 447000.0], [4.0, 586000.0], [3.0, 465750.0], [3.0, 263000.0], [4.0, 410000.0], [4.0, 750000.0], [2.0, 260000.0], [5.0, 1270000.0], [3.0, 335500.0], [3.0, 464550.0], [2.0, 465000.0], [4.0, 258750.0], [4.0, 260000.0], [3.0, 277500.0], [4.0, 598600.0], [2.0, 325000.0], [3.0, 253000.0], [2.0, 287000.0], [3.0, 435000.0], [2.0, 1065000.0], [3.0, 717500.0], [2.0, 750000.0], [3.0, 249950.0], [4.0, 785000.0], [3.0, 312000.0], [1.0, 484000.0], [3.0, 205000.0], [5.0, 738515.0], [3.0, 1010000.0], [3.0, 449950.0], [3.0, 299250.0], [3.0, 260000.0], [3.0, 1330000.0], [3.0, 166600.0], [2.0, 492000.0], [2.0, 708000.0], [2.0, 245000.0], [2.0, 415000.0], [3.0, 242500.0], [2.0, 303000.0], [3.0, 180000.0], [3.0, 220000.0], [4.0, 535000.0], [4.0, 339500.0], [4.0, 782000.0], [3.0, 720000.0], [3.0, 305000.0], [3.0, 515000.0], [2.0, 305000.0], [4.0, 320000.0], [4.0, 339950.0], [3.0, 749700.0], [4.0, 748000.0], [3.0, 750000.0], [4.0, 353000.0], [3.0, 602000.0], [4.0, 345000.0], [3.0, 575000.0], [4.0, 589000.0], [3.0, 2250000.0], [2.0, 345000.0], [2.0, 237950.0], [4.0, 340000.0], [5.0, 472000.0], [3.0, 320000.0], [3.0, 549900.0], [3.0, 755000.0], [4.0, 889000.0], [3.0, 375000.0], [3.0, 399950.0], [4.0, 655500.0], [4.0, 330000.0], [4.0, 730000.0], [3.0, 528000.0], [2.0, 558000.0], [4.0, 1045000.0], [3.0, 159000.0], [4.0, 550000.0], [3.0, 829000.0], [4.0, 270000.0], [4.0, 450000.0], [2.0, 499000.0], [3.0, 925000.0], [4.0, 605000.0], [2.0, 335000.0], [3.0, 315000.0], [3.0, 205000.0], [3.0, 445000.0], [3.0, 463800.0], [3.0, 207000.0], [4.0, 499000.0], [4.0, 481000.0], [3.0, 390000.0], [4.0, 756450.0], [4.0, 905000.0], [3.0, 355000.0], [4.0, 410000.0], [2.0, 440150.0], [4.0, 560000.0], [3.0, 685000.0], [4.0, 482000.0], [4.0, 635000.0], [3.0, 625000.0], [3.0, 425000.0], [4.0, 835100.0], [4.0, 1325000.0], [3.0, 530000.0], [3.0, 299900.0], [7.0, 450000.0], [3.0, 389500.0], [4.0, 715000.0], [2.0, 400000.0], [3.0, 375000.0], [3.0, 436000.0], [3.0, 895000.0], [4.0, 400000.0], [3.0, 552500.0], [3.0, 754842.0], [3.0, 680000.0], [5.0, 475000.0], [3.0, 431000.0], [5.0, 1000000.0], [4.0, 265000.0], [3.0, 392000.0], [5.0, 435000.0], [5.0, 670000.0], [2.0, 276000.0], [3.0, 250000.0], [4.0, 671300.0], [4.0, 279000.0], [4.0, 870000.0], [3.0, 247000.0], [3.0, 420000.0], [4.0, 446500.0], [3.0, 565500.0], [2.0, 745000.0], [5.0, 678940.0], [3.0, 1350000.0], [3.0, 225000.0], [4.0, 352800.0], [4.0, 590000.0], [3.0, 825000.0], [4.0, 436000.0], [5.0, 542500.0], [4.0, 1325000.0], [3.0, 539900.0], [2.0, 235000.0], [3.0, 200000.0], [4.0, 509000.0], [3.0, 237000.0], [4.0, 1120275.0], [3.0, 1060000.0], [4.0, 409000.0], [2.0, 345000.0], [4.0, 1015000.0], [5.0, 718000.0], [4.0, 320000.0], [3.0, 485000.0], [3.0, 299000.0], [4.0, 367500.0], [3.0, 212000.0], [2.0, 155000.0], [3.0, 491150.0], [4.0, 1051000.0], [3.0, 453000.0], [4.0, 287000.0], [5.0, 448000.0], [3.0, 247800.0], [4.0, 265000.0], [4.0, 906000.0], [4.0, 968060.0], [3.0, 289000.0], [4.0, 600000.0], [4.0, 937750.0]], \"columns\": [{\"dtype\": \"str\", \"name\": \"id\"}, {\"dtype\": \"datetime\", \"name\": \"date\"}, {\"dtype\": \"float\", \"name\": \"price\"}, {\"dtype\": \"float\", \"name\": \"bedrooms\"}, {\"dtype\": \"float\", \"name\": \"bathrooms\"}, {\"dtype\": \"float\", \"name\": \"sqft_living\"}, {\"dtype\": \"int\", \"name\": \"sqft_lot\"}, {\"dtype\": \"str\", \"name\": \"floors\"}, {\"dtype\": \"int\", \"name\": \"waterfront\"}, {\"dtype\": \"int\", \"name\": \"view\"}, {\"dtype\": \"int\", \"name\": \"condition\"}, {\"dtype\": \"int\", \"name\": \"grade\"}, {\"dtype\": \"int\", \"name\": \"sqft_above\"}, {\"dtype\": \"int\", \"name\": \"sqft_basement\"}, {\"dtype\": \"int\", \"name\": \"yr_built\"}, {\"dtype\": \"int\", \"name\": \"yr_renovated\"}, {\"dtype\": \"str\", \"name\": \"zipcode\"}, {\"dtype\": \"float\", \"name\": \"lat\"}, {\"dtype\": \"float\", \"name\": \"long\"}, {\"dtype\": \"float\", \"name\": \"sqft_living15\"}, {\"dtype\": \"float\", \"name\": \"sqft_lot15\"}]}, e);\n",
       "                });\n",
       "            })();\n",
       "        "
      ]
     },
     "metadata": {},
     "output_type": "display_data"
    }
   ],
   "source": [
    "sales.show(view=\"Scatter Plot\", x=\"bedrooms\", y=\"price\")"
   ]
  },
  {
   "cell_type": "code",
   "execution_count": 36,
   "metadata": {
    "collapsed": false
   },
   "outputs": [
    {
     "name": "stdout",
     "output_type": "stream",
     "text": [
      "Intercept: 109473.180469\n",
      "Slope: 127588.952175\n"
     ]
    }
   ],
   "source": [
    "# Estimate the slope and intercept for predicting 'price' based on 'bedrooms'\n",
    "bedrooms_intercept, bedrooms_slope = simple_linear_regression(train_data['bedrooms'], train_data['price'])\n",
    "\n",
    "print \"Intercept: \" + str(bedrooms_intercept)\n",
    "print \"Slope: \" + str(bedrooms_slope)"
   ]
  },
  {
   "cell_type": "markdown",
   "metadata": {},
   "source": [
    "# Test your Linear Regression Algorithm"
   ]
  },
  {
   "cell_type": "markdown",
   "metadata": {},
   "source": [
    "Now we have two models for predicting the price of a house. How do we know which one is better? Calculate the RSS on the TEST data (remember this data wasn't involved in learning the model). Compute the RSS from predicting prices using bedrooms and from predicting prices using squarefeet.\n",
    "\n",
    "**Quiz Question: Which model (square feet or bedrooms) has lowest RSS on TEST data? Think about why this might be the case.**"
   ]
  },
  {
   "cell_type": "code",
   "execution_count": 38,
   "metadata": {
    "collapsed": false
   },
   "outputs": [
    {
     "data": {
      "text/plain": [
       "493364582868288.1"
      ]
     },
     "execution_count": 38,
     "metadata": {},
     "output_type": "execute_result"
    }
   ],
   "source": [
    "# Compute RSS when using bedrooms on TEST data:\n",
    "get_residual_sum_of_squares(test_data['bedrooms'], test_data['price'], bedrooms_intercept, bedrooms_slope)"
   ]
  },
  {
   "cell_type": "code",
   "execution_count": 39,
   "metadata": {
    "collapsed": false
   },
   "outputs": [
    {
     "data": {
      "text/plain": [
       "275402936247141.47"
      ]
     },
     "execution_count": 39,
     "metadata": {},
     "output_type": "execute_result"
    }
   ],
   "source": [
    "# Compute RSS when using squarfeet on TEST data:\n",
    "get_residual_sum_of_squares(test_data['sqft_living'], test_data['price'], sqft_intercept, sqft_slope)"
   ]
  },
  {
   "cell_type": "code",
   "execution_count": null,
   "metadata": {
    "collapsed": true
   },
   "outputs": [],
   "source": []
  }
 ],
 "metadata": {
  "kernelspec": {
   "display_name": "Python 2",
   "language": "python",
   "name": "python2"
  },
  "language_info": {
   "codemirror_mode": {
    "name": "ipython",
    "version": 2
   },
   "file_extension": ".py",
   "mimetype": "text/x-python",
   "name": "python",
   "nbconvert_exporter": "python",
   "pygments_lexer": "ipython2",
   "version": "2.7.10"
  }
 },
 "nbformat": 4,
 "nbformat_minor": 0
}
